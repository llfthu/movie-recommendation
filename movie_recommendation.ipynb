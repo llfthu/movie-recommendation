{
  "nbformat": 4,
  "nbformat_minor": 0,
  "metadata": {
    "colab": {
      "name": "Movie_Recommendation.ipynb",
      "provenance": [],
      "collapsed_sections": [],
      "authorship_tag": "ABX9TyMSHFGvgt0jvsOKEgfHssPO"
    },
    "kernelspec": {
      "display_name": "Python 3",
      "name": "python3"
    }
  },
  "cells": [
    {
      "cell_type": "markdown",
      "metadata": {
        "id": "_DsGu5KMVQ_l"
      },
      "source": [
        "## **Spark Movie Recommendation**\n",
        "In this notebook, I will use an Alternating Least Squares (ALS) algorithm with Spark APIs to predict the ratings for the movies in [MovieLens small dataset](https://grouplens.org/datasets/movielens/latest/).\n",
        "<br><br>"
      ]
    },
    {
      "cell_type": "markdown",
      "metadata": {
        "id": "79Q5WFQTkrMN"
      },
      "source": [
        "### **Install Spark and import packages**\n",
        "<br>"
      ]
    },
    {
      "cell_type": "code",
      "metadata": {
        "id": "J4e73ESqDiNr"
      },
      "source": [
        "!apt-get update\n",
        "!apt-get install openjdk-8-jdk-headless -qq > /dev/null"
      ],
      "execution_count": null,
      "outputs": []
    },
    {
      "cell_type": "code",
      "metadata": {
        "id": "MRIoyZMsDr0w"
      },
      "source": [
        "!wget -q http://apache.forsale.plus/spark/spark-2.4.7/spark-2.4.7-bin-hadoop2.7.tgz\n",
        "!ls\n",
        "!tar xf spark-2.4.7-bin-hadoop2.7.tgz"
      ],
      "execution_count": null,
      "outputs": []
    },
    {
      "cell_type": "code",
      "metadata": {
        "id": "0kJ0E1Q4VZz3"
      },
      "source": [
        "!pip install -q findspark\n",
        "!pip install py4j\n",
        "\n",
        "!export JAVA_HOME=$(/usr/lib/jvm/java-8-openjdk-amd64 -v 1.8)\n",
        "! echo $JAVA_HOME\n",
        "import os\n",
        "os.environ[\"JAVA_HOME\"] = \"/usr/lib/jvm/java-8-openjdk-amd64\"\n",
        "os.environ[\"SPARK_HOME\"] = \"/content/spark-2.4.7-bin-hadoop2.7\"\n",
        "import findspark\n",
        "findspark.init(\"spark-2.4.7-bin-hadoop2.7\")# SPARK_HOME\n",
        "\n",
        "from pyspark.sql import SparkSession\n",
        "spark = SparkSession.builder.master(\"local[*]\").getOrCreate()"
      ],
      "execution_count": null,
      "outputs": []
    },
    {
      "cell_type": "code",
      "metadata": {
        "colab": {
          "base_uri": "https://localhost:8080/"
        },
        "id": "OcJKu9VaVdJ7",
        "outputId": "d3841744-66fc-4b21-9fb2-c9c8ab819f3f"
      },
      "source": [
        "!ls"
      ],
      "execution_count": null,
      "outputs": [
        {
          "output_type": "stream",
          "text": [
            "sample_data  spark-2.4.7-bin-hadoop2.7\tspark-2.4.7-bin-hadoop2.7.tgz\n"
          ],
          "name": "stdout"
        }
      ]
    },
    {
      "cell_type": "code",
      "metadata": {
        "colab": {
          "base_uri": "https://localhost:8080/",
          "height": 35
        },
        "id": "v0tCdNSUVggO",
        "outputId": "962fff6e-294a-4a14-c859-447beb414ace"
      },
      "source": [
        "spark.version"
      ],
      "execution_count": null,
      "outputs": [
        {
          "output_type": "execute_result",
          "data": {
            "application/vnd.google.colaboratory.intrinsic+json": {
              "type": "string"
            },
            "text/plain": [
              "'2.4.7'"
            ]
          },
          "metadata": {
            "tags": []
          },
          "execution_count": 5
        }
      ]
    },
    {
      "cell_type": "code",
      "metadata": {
        "id": "yfHD6v4AVh4r"
      },
      "source": [
        "import numpy as np\n",
        "import pandas as pd\n",
        "import seaborn as sns\n",
        "import matplotlib\n",
        "%matplotlib inline"
      ],
      "execution_count": null,
      "outputs": []
    },
    {
      "cell_type": "code",
      "metadata": {
        "id": "xruKbIeDVrW4"
      },
      "source": [
        "import os\n",
        "os.environ['PYSPARK_PYTHON'] = 'python3'"
      ],
      "execution_count": null,
      "outputs": []
    },
    {
      "cell_type": "code",
      "metadata": {
        "id": "k-mgUucXerJF"
      },
      "source": [
        "!pip install -U -q PyDrive\n",
        "\n",
        "from pydrive.auth import GoogleAuth\n",
        "from pydrive.drive import GoogleDrive\n",
        "from google.colab import auth\n",
        "from oauth2client.client import GoogleCredentials\n",
        "\n",
        "auth.authenticate_user()\n",
        "gauth = GoogleAuth()\n",
        "gauth.credentials = GoogleCredentials.get_application_default()\n",
        "drive = GoogleDrive(gauth)"
      ],
      "execution_count": null,
      "outputs": []
    },
    {
      "cell_type": "code",
      "metadata": {
        "id": "KiG7K687VxZ6"
      },
      "source": [
        "from pyspark.sql import SparkSession\n",
        "spark = SparkSession \\\n",
        "    .builder \\\n",
        "    .appName(\"moive analysis\") \\\n",
        "    .config(\"spark.some.config.option\", \"some-value\") \\\n",
        "    .getOrCreate()"
      ],
      "execution_count": null,
      "outputs": []
    },
    {
      "cell_type": "markdown",
      "metadata": {
        "id": "2QartVdyVzPG"
      },
      "source": [
        "\n",
        "##<br>**1. Data ETL and Data Exploration**\n",
        "I'll load the datasets into spark dataframes, and explore the data.\n",
        "\n",
        "<br>"
      ]
    },
    {
      "cell_type": "code",
      "metadata": {
        "colab": {
          "resources": {
            "http://localhost:8080/nbextensions/google.colab/files.js": {
              "data": "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",
              "headers": [
                [
                  "content-type",
                  "application/javascript"
                ]
              ],
              "ok": true,
              "status": 200,
              "status_text": ""
            }
          },
          "base_uri": "https://localhost:8080/",
          "height": 174
        },
        "id": "pxlChiJZVtlh",
        "outputId": "dc776cb4-8b18-415e-857a-5ac3cf334b5d"
      },
      "source": [
        "from google.colab import files\n",
        "\n",
        "uploaded = files.upload()"
      ],
      "execution_count": null,
      "outputs": [
        {
          "output_type": "display_data",
          "data": {
            "text/html": [
              "\n",
              "     <input type=\"file\" id=\"files-5f821203-ff98-4f23-96cb-683a619b6712\" name=\"files[]\" multiple disabled\n",
              "        style=\"border:none\" />\n",
              "     <output id=\"result-5f821203-ff98-4f23-96cb-683a619b6712\">\n",
              "      Upload widget is only available when the cell has been executed in the\n",
              "      current browser session. Please rerun this cell to enable.\n",
              "      </output>\n",
              "      <script src=\"/nbextensions/google.colab/files.js\"></script> "
            ],
            "text/plain": [
              "<IPython.core.display.HTML object>"
            ]
          },
          "metadata": {
            "tags": []
          }
        },
        {
          "output_type": "stream",
          "text": [
            "Saving links.csv to links.csv\n",
            "Saving movies.csv to movies.csv\n",
            "Saving ratings.csv to ratings.csv\n",
            "Saving tags.csv to tags.csv\n"
          ],
          "name": "stdout"
        }
      ]
    },
    {
      "cell_type": "code",
      "metadata": {
        "colab": {
          "base_uri": "https://localhost:8080/"
        },
        "id": "f1rUA8n9V9-w",
        "outputId": "738178fc-82a7-4ebc-c07f-c55e82e8bff7"
      },
      "source": [
        "os.listdir()"
      ],
      "execution_count": null,
      "outputs": [
        {
          "output_type": "execute_result",
          "data": {
            "text/plain": [
              "['.config',\n",
              " 'links.csv',\n",
              " 'ratings.csv',\n",
              " 'spark-2.4.7-bin-hadoop2.7',\n",
              " 'tags.csv',\n",
              " 'movies.csv',\n",
              " 'spark-2.4.7-bin-hadoop2.7.tgz',\n",
              " 'adc.json',\n",
              " 'sample_data']"
            ]
          },
          "metadata": {
            "tags": []
          },
          "execution_count": 11
        }
      ]
    },
    {
      "cell_type": "code",
      "metadata": {
        "id": "5DAu87rKWKYG"
      },
      "source": [
        "movies_df = spark.read.load(\"./movies.csv\", format='csv', header = True)\n",
        "ratings_df = spark.read.load(\"./ratings.csv\", format='csv', header = True)\n",
        "links_df = spark.read.load(\"./links.csv\", format='csv', header = True)\n",
        "tags_df = spark.read.load(\"./tags.csv\", format='csv', header = True)"
      ],
      "execution_count": null,
      "outputs": []
    },
    {
      "cell_type": "code",
      "metadata": {
        "colab": {
          "base_uri": "https://localhost:8080/"
        },
        "id": "zxdxdUKfWbHZ",
        "outputId": "888a8f7e-4d93-4a95-d0f1-7d909722acfb"
      },
      "source": [
        "movies_df.show(5)"
      ],
      "execution_count": null,
      "outputs": [
        {
          "output_type": "stream",
          "text": [
            "+-------+--------------------+--------------------+\n",
            "|movieId|               title|              genres|\n",
            "+-------+--------------------+--------------------+\n",
            "|      1|    Toy Story (1995)|Adventure|Animati...|\n",
            "|      2|      Jumanji (1995)|Adventure|Childre...|\n",
            "|      3|Grumpier Old Men ...|      Comedy|Romance|\n",
            "|      4|Waiting to Exhale...|Comedy|Drama|Romance|\n",
            "|      5|Father of the Bri...|              Comedy|\n",
            "+-------+--------------------+--------------------+\n",
            "only showing top 5 rows\n",
            "\n"
          ],
          "name": "stdout"
        }
      ]
    },
    {
      "cell_type": "code",
      "metadata": {
        "colab": {
          "base_uri": "https://localhost:8080/"
        },
        "id": "nnIaIlNEWfM-",
        "outputId": "7f1bbdc0-daf8-482f-b3ed-c235977d24cb"
      },
      "source": [
        "ratings_df.show(5)"
      ],
      "execution_count": null,
      "outputs": [
        {
          "output_type": "stream",
          "text": [
            "+------+-------+------+---------+\n",
            "|userId|movieId|rating|timestamp|\n",
            "+------+-------+------+---------+\n",
            "|     1|      1|   4.0|964982703|\n",
            "|     1|      3|   4.0|964981247|\n",
            "|     1|      6|   4.0|964982224|\n",
            "|     1|     47|   5.0|964983815|\n",
            "|     1|     50|   5.0|964982931|\n",
            "+------+-------+------+---------+\n",
            "only showing top 5 rows\n",
            "\n"
          ],
          "name": "stdout"
        }
      ]
    },
    {
      "cell_type": "code",
      "metadata": {
        "colab": {
          "base_uri": "https://localhost:8080/"
        },
        "id": "ibxU53FPWhA8",
        "outputId": "8a0d77ad-6475-488b-9555-10bf2990846f"
      },
      "source": [
        "links_df.show(5)"
      ],
      "execution_count": null,
      "outputs": [
        {
          "output_type": "stream",
          "text": [
            "+-------+-------+------+\n",
            "|movieId| imdbId|tmdbId|\n",
            "+-------+-------+------+\n",
            "|      1|0114709|   862|\n",
            "|      2|0113497|  8844|\n",
            "|      3|0113228| 15602|\n",
            "|      4|0114885| 31357|\n",
            "|      5|0113041| 11862|\n",
            "+-------+-------+------+\n",
            "only showing top 5 rows\n",
            "\n"
          ],
          "name": "stdout"
        }
      ]
    },
    {
      "cell_type": "code",
      "metadata": {
        "colab": {
          "base_uri": "https://localhost:8080/"
        },
        "id": "Ge0wkRtWWjE9",
        "outputId": "2e446151-450c-413c-fe9e-0366e9c0e11a"
      },
      "source": [
        "tags_df.show(5)"
      ],
      "execution_count": null,
      "outputs": [
        {
          "output_type": "stream",
          "text": [
            "+------+-------+---------------+----------+\n",
            "|userId|movieId|            tag| timestamp|\n",
            "+------+-------+---------------+----------+\n",
            "|     2|  60756|          funny|1445714994|\n",
            "|     2|  60756|Highly quotable|1445714996|\n",
            "|     2|  60756|   will ferrell|1445714992|\n",
            "|     2|  89774|   Boxing story|1445715207|\n",
            "|     2|  89774|            MMA|1445715200|\n",
            "+------+-------+---------------+----------+\n",
            "only showing top 5 rows\n",
            "\n"
          ],
          "name": "stdout"
        }
      ]
    },
    {
      "cell_type": "code",
      "metadata": {
        "colab": {
          "base_uri": "https://localhost:8080/"
        },
        "id": "GGveG8RBiTSc",
        "outputId": "8c2e0033-a94d-444c-8e73-1e7188a6aa37"
      },
      "source": [
        "ratings_df.toPandas().isnull().sum()"
      ],
      "execution_count": null,
      "outputs": [
        {
          "output_type": "execute_result",
          "data": {
            "text/plain": [
              "userId       0\n",
              "movieId      0\n",
              "rating       0\n",
              "timestamp    0\n",
              "dtype: int64"
            ]
          },
          "metadata": {
            "tags": []
          },
          "execution_count": 17
        }
      ]
    },
    {
      "cell_type": "markdown",
      "metadata": {
        "id": "0c0d1prmpZVo"
      },
      "source": [
        "<br>There is no missing value in ratings (which I'll use to build the recommendation system later).\n",
        "<br><br>"
      ]
    },
    {
      "cell_type": "code",
      "metadata": {
        "colab": {
          "base_uri": "https://localhost:8080/"
        },
        "id": "P8TBzKqwWk_G",
        "outputId": "3ca33bd9-b6dc-4a7b-a335-21aac8569420"
      },
      "source": [
        "tmp1 = ratings_df.groupBy(\"userID\").count().toPandas()['count'].min()\n",
        "tmp2 = ratings_df.groupBy(\"movieId\").count().toPandas()['count'].min()\n",
        "print('For the users that rated movies and the movies that were rated:')\n",
        "print('Minimum number of ratings per user is {}'.format(tmp1))\n",
        "print('Minimum number of ratings per movie is {}'.format(tmp2))"
      ],
      "execution_count": null,
      "outputs": [
        {
          "output_type": "stream",
          "text": [
            "For the users that rated movies and the movies that were rated:\n",
            "Minimum number of ratings per user is 20\n",
            "Minimum number of ratings per movie is 1\n"
          ],
          "name": "stdout"
        }
      ]
    },
    {
      "cell_type": "code",
      "metadata": {
        "colab": {
          "base_uri": "https://localhost:8080/"
        },
        "id": "IYKtvJblWnKo",
        "outputId": "83ed419c-cfda-4da1-8480-16c21cfb8c02"
      },
      "source": [
        "tmp1 = sum(ratings_df.groupBy(\"movieId\").count().toPandas()['count'] == 1)\n",
        "tmp2 = ratings_df.select('movieId').distinct().count()\n",
        "print('{} out of {} movies have only one rating'.format(tmp1, tmp2))"
      ],
      "execution_count": null,
      "outputs": [
        {
          "output_type": "stream",
          "text": [
            "3446 out of 9724 movies have only one rating\n"
          ],
          "name": "stdout"
        }
      ]
    },
    {
      "cell_type": "markdown",
      "metadata": {
        "id": "5xadfljnrFaB"
      },
      "source": [
        "<br> Every movie in ratings has at least one rating, and more than 1/3 movies have only one rating."
      ]
    },
    {
      "cell_type": "markdown",
      "metadata": {
        "id": "WXsvhhUUWyNx"
      },
      "source": [
        "##**<br>2. Spark SQL and OLAP**\n",
        "I'll use spark sql to analyze the datasets, and extract some information of interest.\n",
        "<br><br>"
      ]
    },
    {
      "cell_type": "code",
      "metadata": {
        "id": "5jo8DqjMWvY0"
      },
      "source": [
        "movies_df.registerTempTable(\"movies\")\n",
        "ratings_df.registerTempTable(\"ratings\")\n",
        "links_df.registerTempTable(\"links\")\n",
        "tags_df.registerTempTable(\"tags\")"
      ],
      "execution_count": null,
      "outputs": []
    },
    {
      "cell_type": "markdown",
      "metadata": {
        "id": "NvewV78xXEnt"
      },
      "source": [
        "###<br>**2.1 The number of users that rated movies**\n",
        "<br>"
      ]
    },
    {
      "cell_type": "code",
      "metadata": {
        "colab": {
          "base_uri": "https://localhost:8080/"
        },
        "id": "pbaPwY0DW2m8",
        "outputId": "7729c11d-226e-4d42-c2a2-566c8a4e586c"
      },
      "source": [
        "spark.sql('\\\n",
        "            select count(distinct userid) as Number_of_users \\\n",
        "            from ratings \\\n",
        "          ').show()"
      ],
      "execution_count": null,
      "outputs": [
        {
          "output_type": "stream",
          "text": [
            "+---------------+\n",
            "|Number_of_users|\n",
            "+---------------+\n",
            "|            610|\n",
            "+---------------+\n",
            "\n"
          ],
          "name": "stdout"
        }
      ]
    },
    {
      "cell_type": "markdown",
      "metadata": {
        "id": "dBOyL8dVXLxd"
      },
      "source": [
        "###<br>**2.2 The total number of movies**\n",
        "<br>"
      ]
    },
    {
      "cell_type": "code",
      "metadata": {
        "colab": {
          "base_uri": "https://localhost:8080/"
        },
        "id": "XS_KPcpDW7IU",
        "outputId": "064e8470-9873-433c-fd18-a62708f6ce34"
      },
      "source": [
        "spark.sql('\\\n",
        "            select count(*) as Number_of_movies \\\n",
        "            from movies \\\n",
        "          ').show()"
      ],
      "execution_count": null,
      "outputs": [
        {
          "output_type": "stream",
          "text": [
            "+----------------+\n",
            "|Number_of_movies|\n",
            "+----------------+\n",
            "|            9742|\n",
            "+----------------+\n",
            "\n"
          ],
          "name": "stdout"
        }
      ]
    },
    {
      "cell_type": "markdown",
      "metadata": {
        "id": "_Du4uk7jXUqw"
      },
      "source": [
        "###<br>**2.3 The number of movies rated by users and movies not rated**\n",
        "<br>"
      ]
    },
    {
      "cell_type": "code",
      "metadata": {
        "colab": {
          "base_uri": "https://localhost:8080/"
        },
        "id": "RW0thm9HXR6I",
        "outputId": "ae05115b-ed7c-4031-c489-7859ca192c1c"
      },
      "source": [
        "spark.sql('\\\n",
        "            select count(distinct movieid) as number_of_movies_rated \\\n",
        "            from ratings \\\n",
        "          ').show()"
      ],
      "execution_count": null,
      "outputs": [
        {
          "output_type": "stream",
          "text": [
            "+----------------------+\n",
            "|number_of_movies_rated|\n",
            "+----------------------+\n",
            "|                  9724|\n",
            "+----------------------+\n",
            "\n"
          ],
          "name": "stdout"
        }
      ]
    },
    {
      "cell_type": "code",
      "metadata": {
        "colab": {
          "base_uri": "https://localhost:8080/"
        },
        "id": "Nv-t6BBpXa3J",
        "outputId": "6bb07e23-44ab-4c32-c341-455a5902e36e"
      },
      "source": [
        "# movies not rated by any user\n",
        "\n",
        "spark.sql('\\\n",
        "            select title, genres \\\n",
        "            from movies \\\n",
        "            where movieid not in (select distinct movieid \\\n",
        "                                  from ratings)\\\n",
        "          ').show(truncate=False)"
      ],
      "execution_count": null,
      "outputs": [
        {
          "output_type": "stream",
          "text": [
            "+--------------------------------------------+------------------------+\n",
            "|title                                       |genres                  |\n",
            "+--------------------------------------------+------------------------+\n",
            "|Innocents, The (1961)                       |Drama|Horror|Thriller   |\n",
            "|Niagara (1953)                              |Drama|Thriller          |\n",
            "|For All Mankind (1989)                      |Documentary             |\n",
            "|Color of Paradise, The (Rang-e khoda) (1999)|Drama                   |\n",
            "|I Know Where I'm Going! (1945)              |Drama|Romance|War       |\n",
            "|Chosen, The (1981)                          |Drama                   |\n",
            "|Road Home, The (Wo de fu qin mu qin) (1999) |Drama|Romance           |\n",
            "|Scrooge (1970)                              |Drama|Fantasy|Musical   |\n",
            "|Proof (1991)                                |Comedy|Drama|Romance    |\n",
            "|Parallax View, The (1974)                   |Thriller                |\n",
            "|This Gun for Hire (1942)                    |Crime|Film-Noir|Thriller|\n",
            "|Roaring Twenties, The (1939)                |Crime|Drama|Thriller    |\n",
            "|Mutiny on the Bounty (1962)                 |Adventure|Drama|Romance |\n",
            "|In the Realms of the Unreal (2004)          |Animation|Documentary   |\n",
            "|Twentieth Century (1934)                    |Comedy                  |\n",
            "|Call Northside 777 (1948)                   |Crime|Drama|Film-Noir   |\n",
            "|Browning Version, The (1951)                |Drama                   |\n",
            "|Chalet Girl (2011)                          |Comedy|Romance          |\n",
            "+--------------------------------------------+------------------------+\n",
            "\n"
          ],
          "name": "stdout"
        }
      ]
    },
    {
      "cell_type": "markdown",
      "metadata": {
        "id": "UzZZZI_BX1tL"
      },
      "source": [
        "### <br>**2.4 Movie genres and their frequency**\n",
        "<br>"
      ]
    },
    {
      "cell_type": "code",
      "metadata": {
        "colab": {
          "base_uri": "https://localhost:8080/"
        },
        "id": "agLOTsflXhaI",
        "outputId": "a85da88a-d383-404f-f168-75ce96898242"
      },
      "source": [
        "spark.sql('\\\n",
        "            select genres as genre, \\\n",
        "                   count(*) as freq \\\n",
        "            from movies \\\n",
        "            group by genres \\\n",
        "          ').show()"
      ],
      "execution_count": null,
      "outputs": [
        {
          "output_type": "stream",
          "text": [
            "+--------------------+----+\n",
            "|               genre|freq|\n",
            "+--------------------+----+\n",
            "|Comedy|Horror|Thr...|  17|\n",
            "|Adventure|Sci-Fi|...|   4|\n",
            "|Action|Adventure|...|   6|\n",
            "| Action|Drama|Horror|   1|\n",
            "|Action|Animation|...|   2|\n",
            "|Animation|Childre...|   2|\n",
            "|Action|Adventure|...|  27|\n",
            "|    Adventure|Sci-Fi|  15|\n",
            "|Documentary|Music...|   1|\n",
            "|Adventure|Childre...|   1|\n",
            "| Adventure|Animation|   2|\n",
            "| Musical|Romance|War|   1|\n",
            "|Action|Adventure|...|   1|\n",
            "|Adventure|Childre...|   2|\n",
            "|Comedy|Crime|Horr...|   1|\n",
            "|Crime|Drama|Fanta...|   1|\n",
            "|Comedy|Mystery|Th...|   3|\n",
            "|   Adventure|Fantasy|  13|\n",
            "|Horror|Romance|Sc...|   1|\n",
            "|Drama|Film-Noir|R...|   2|\n",
            "+--------------------+----+\n",
            "only showing top 20 rows\n",
            "\n"
          ],
          "name": "stdout"
        }
      ]
    },
    {
      "cell_type": "markdown",
      "metadata": {
        "id": "0mCzlOPS2whl"
      },
      "source": [
        "<br> The genres in the movies dataset were grouped together for each movie; in order to find out the basic genres, I'll need to split them first.\n",
        "<br><br>"
      ]
    },
    {
      "cell_type": "code",
      "metadata": {
        "colab": {
          "base_uri": "https://localhost:8080/"
        },
        "id": "dl4k_CJ2X-I6",
        "outputId": "f6d8f3fa-ccfa-4e0b-ff1a-3689e9261eee"
      },
      "source": [
        "spark.sql(\"\\\n",
        "            select genre, \\\n",
        "                   count(*) as freq \\\n",
        "            from (select explode(split(genres, '[\\|]')) as genre \\\n",
        "                  from movies) \\\n",
        "            group by genre \\\n",
        "            order by genre \\\n",
        "          \").show()"
      ],
      "execution_count": null,
      "outputs": [
        {
          "output_type": "stream",
          "text": [
            "+------------------+----+\n",
            "|             genre|freq|\n",
            "+------------------+----+\n",
            "|(no genres listed)|  34|\n",
            "|            Action|1828|\n",
            "|         Adventure|1263|\n",
            "|         Animation| 611|\n",
            "|          Children| 664|\n",
            "|            Comedy|3756|\n",
            "|             Crime|1199|\n",
            "|       Documentary| 440|\n",
            "|             Drama|4361|\n",
            "|           Fantasy| 779|\n",
            "|         Film-Noir|  87|\n",
            "|            Horror| 978|\n",
            "|              IMAX| 158|\n",
            "|           Musical| 334|\n",
            "|           Mystery| 573|\n",
            "|           Romance|1596|\n",
            "|            Sci-Fi| 980|\n",
            "|          Thriller|1894|\n",
            "|               War| 382|\n",
            "|           Western| 167|\n",
            "+------------------+----+\n",
            "\n"
          ],
          "name": "stdout"
        }
      ]
    },
    {
      "cell_type": "markdown",
      "metadata": {
        "id": "FoU8KPFCZk5f"
      },
      "source": [
        "###<br>**2.5 Movies for each genre**\n",
        "<br>"
      ]
    },
    {
      "cell_type": "code",
      "metadata": {
        "colab": {
          "base_uri": "https://localhost:8080/"
        },
        "id": "bFc3tqbgYuMz",
        "outputId": "717e8502-97e3-4c40-f2c6-52b38c4c9fb8"
      },
      "source": [
        "spark.sql(\"\\\n",
        "            select genre, collect_set(title) as list_of_movies \\\n",
        "            from \\\n",
        "                (select explode(split(genres, '[\\|]')) as genre, title \\\n",
        "                 from movies) \\\n",
        "            group by genre \\\n",
        "          \").show(truncate=50)"
      ],
      "execution_count": null,
      "outputs": [
        {
          "output_type": "stream",
          "text": [
            "+------------------+--------------------------------------------------+\n",
            "|             genre|                                    list_of_movies|\n",
            "+------------------+--------------------------------------------------+\n",
            "|             Crime|[Stealing Rembrandt (Rembrandt) (2003), Innocen...|\n",
            "|           Romance|[Vampire in Brooklyn (1995), Hysteria (2011), F...|\n",
            "|          Thriller|[Element of Crime, The (Forbrydelsens Element) ...|\n",
            "|         Adventure|[Ice Age: Collision Course (2016), Masters of t...|\n",
            "|             Drama|[Airport '77 (1977), Meet John Doe (1941), Elem...|\n",
            "|               War|[General, The (1926), Joyeux Noël (Merry Christ...|\n",
            "|       Documentary|[The Barkley Marathons: The Race That Eats Its ...|\n",
            "|           Fantasy|[Masters of the Universe (1987), Odd Life of Ti...|\n",
            "|           Mystery|[Before and After (1996), Primal Fear (1996), O...|\n",
            "|           Musical|[U2: Rattle and Hum (1988), Sword in the Stone,...|\n",
            "|         Animation|[Ice Age: Collision Course (2016), Planes (2013...|\n",
            "|         Film-Noir|[Rififi (Du rififi chez les hommes) (1955), Swe...|\n",
            "|(no genres listed)|[T2 3-D: Battle Across Time (1996), A Midsummer...|\n",
            "|              IMAX|[Harry Potter and the Prisoner of Azkaban (2004...|\n",
            "|            Horror|[Underworld: Rise of the Lycans (2009), Vampire...|\n",
            "|           Western|[Man Who Shot Liberty Valance, The (1962), Lone...|\n",
            "|            Comedy|[Hysteria (2011), Humpday (2009), Meet John Doe...|\n",
            "|          Children|[Ice Age: Collision Course (2016), Nut Job, The...|\n",
            "|            Action|[Stealing Rembrandt (Rembrandt) (2003), Masters...|\n",
            "|            Sci-Fi|[Push (2009), SORI: Voice from the Heart (2016)...|\n",
            "+------------------+--------------------------------------------------+\n",
            "\n"
          ],
          "name": "stdout"
        }
      ]
    },
    {
      "cell_type": "markdown",
      "metadata": {
        "id": "Y9Zy4kXxayAV"
      },
      "source": [
        "##<br>**3. Spark ALS based approach for training model**\n",
        "In order to train an ALS model, I'll first preprocess ratings data by removing useless columns, converting datatypes, and spliting into training and testing datasets. For the modeling part, I'll use 5-fold cross-validation to tune hyper-parameters and get the best model.\n",
        "<br><br>"
      ]
    },
    {
      "cell_type": "markdown",
      "metadata": {
        "id": "b5M3pDtbK8MZ"
      },
      "source": [
        "###**3.1 Data preprocessing**<br><br>"
      ]
    },
    {
      "cell_type": "code",
      "metadata": {
        "colab": {
          "base_uri": "https://localhost:8080/"
        },
        "id": "uqUVBrHGaLvt",
        "outputId": "67896270-1fdf-4786-e211-f232fcba7c47"
      },
      "source": [
        "ratings_df.show()"
      ],
      "execution_count": null,
      "outputs": [
        {
          "output_type": "stream",
          "text": [
            "+------+-------+------+---------+\n",
            "|userId|movieId|rating|timestamp|\n",
            "+------+-------+------+---------+\n",
            "|     1|      1|   4.0|964982703|\n",
            "|     1|      3|   4.0|964981247|\n",
            "|     1|      6|   4.0|964982224|\n",
            "|     1|     47|   5.0|964983815|\n",
            "|     1|     50|   5.0|964982931|\n",
            "|     1|     70|   3.0|964982400|\n",
            "|     1|    101|   5.0|964980868|\n",
            "|     1|    110|   4.0|964982176|\n",
            "|     1|    151|   5.0|964984041|\n",
            "|     1|    157|   5.0|964984100|\n",
            "|     1|    163|   5.0|964983650|\n",
            "|     1|    216|   5.0|964981208|\n",
            "|     1|    223|   3.0|964980985|\n",
            "|     1|    231|   5.0|964981179|\n",
            "|     1|    235|   4.0|964980908|\n",
            "|     1|    260|   5.0|964981680|\n",
            "|     1|    296|   3.0|964982967|\n",
            "|     1|    316|   3.0|964982310|\n",
            "|     1|    333|   5.0|964981179|\n",
            "|     1|    349|   4.0|964982563|\n",
            "+------+-------+------+---------+\n",
            "only showing top 20 rows\n",
            "\n"
          ],
          "name": "stdout"
        }
      ]
    },
    {
      "cell_type": "code",
      "metadata": {
        "id": "H6q3nCuxa05b"
      },
      "source": [
        "movie_ratings = ratings_df.drop('timestamp')"
      ],
      "execution_count": null,
      "outputs": []
    },
    {
      "cell_type": "code",
      "metadata": {
        "colab": {
          "base_uri": "https://localhost:8080/"
        },
        "id": "loEDR-vAa2pU",
        "outputId": "de78baab-768b-45d2-ee36-302f68a443c7"
      },
      "source": [
        "# convert data type\n",
        "\n",
        "from pyspark.sql.functions import col\n",
        "from pyspark.sql.types import IntegerType, FloatType\n",
        "movie_ratings = movie_ratings.withColumn('userId', col('userId').cast(IntegerType())) \\\n",
        "                             .withColumn('movieId', col('movieId').cast(IntegerType())) \\\n",
        "                             .withColumn('rating', col('rating').cast(FloatType()))\n",
        "movie_ratings.show()"
      ],
      "execution_count": null,
      "outputs": [
        {
          "output_type": "stream",
          "text": [
            "+------+-------+------+\n",
            "|userId|movieId|rating|\n",
            "+------+-------+------+\n",
            "|     1|      1|   4.0|\n",
            "|     1|      3|   4.0|\n",
            "|     1|      6|   4.0|\n",
            "|     1|     47|   5.0|\n",
            "|     1|     50|   5.0|\n",
            "|     1|     70|   3.0|\n",
            "|     1|    101|   5.0|\n",
            "|     1|    110|   4.0|\n",
            "|     1|    151|   5.0|\n",
            "|     1|    157|   5.0|\n",
            "|     1|    163|   5.0|\n",
            "|     1|    216|   5.0|\n",
            "|     1|    223|   3.0|\n",
            "|     1|    231|   5.0|\n",
            "|     1|    235|   4.0|\n",
            "|     1|    260|   5.0|\n",
            "|     1|    296|   3.0|\n",
            "|     1|    316|   3.0|\n",
            "|     1|    333|   5.0|\n",
            "|     1|    349|   4.0|\n",
            "+------+-------+------+\n",
            "only showing top 20 rows\n",
            "\n"
          ],
          "name": "stdout"
        }
      ]
    },
    {
      "cell_type": "code",
      "metadata": {
        "id": "u_2QxS6DbDdx"
      },
      "source": [
        "# create test and train set\n",
        "\n",
        "(training,test)=movie_ratings.randomSplit([0.8,0.2])"
      ],
      "execution_count": null,
      "outputs": []
    },
    {
      "cell_type": "code",
      "metadata": {
        "colab": {
          "base_uri": "https://localhost:8080/"
        },
        "id": "ok2cO-60bFuQ",
        "outputId": "74029df7-44ba-4971-a4af-5d4d135707c9"
      },
      "source": [
        "training.count()"
      ],
      "execution_count": null,
      "outputs": [
        {
          "output_type": "execute_result",
          "data": {
            "text/plain": [
              "80509"
            ]
          },
          "metadata": {
            "tags": []
          },
          "execution_count": 32
        }
      ]
    },
    {
      "cell_type": "code",
      "metadata": {
        "colab": {
          "base_uri": "https://localhost:8080/"
        },
        "id": "Un9E-a0CbHll",
        "outputId": "e20c5a00-e24d-4a3c-b738-98610ff4969a"
      },
      "source": [
        "test.count()"
      ],
      "execution_count": null,
      "outputs": [
        {
          "output_type": "execute_result",
          "data": {
            "text/plain": [
              "20327"
            ]
          },
          "metadata": {
            "tags": []
          },
          "execution_count": 33
        }
      ]
    },
    {
      "cell_type": "markdown",
      "metadata": {
        "id": "YiX2szfJa9uz"
      },
      "source": [
        "###**<br>3.2 Model tuning**\n",
        "With the ALS model, I will use a grid search to find the optimal hyperparameters.<br><br>"
      ]
    },
    {
      "cell_type": "code",
      "metadata": {
        "id": "2glrm7xea4hL"
      },
      "source": [
        "# import package\n",
        "\n",
        "from pyspark.ml.evaluation import RegressionEvaluator\n",
        "from pyspark.ml.recommendation import ALS\n",
        "from pyspark.ml.tuning import CrossValidator,ParamGridBuilder"
      ],
      "execution_count": null,
      "outputs": []
    },
    {
      "cell_type": "code",
      "metadata": {
        "id": "zJ3Zh68tbJPc"
      },
      "source": [
        "# create ALS model\n",
        "\n",
        "als = ALS(maxIter=5, rank=10, regParam=0.01, userCol=\"userId\", itemCol=\"movieId\", ratingCol=\"rating\",\n",
        "          coldStartStrategy=\"drop\")"
      ],
      "execution_count": null,
      "outputs": []
    },
    {
      "cell_type": "code",
      "metadata": {
        "id": "jpoC3BZwbKyx"
      },
      "source": [
        "# tune model using ParamGridBuilder\n",
        "\n",
        "paramGrid = (ParamGridBuilder()\n",
        "             .addGrid(als.maxIter, [5, 10, 20])\n",
        "             .addGrid(als.rank, [5, 10, 20])\n",
        "             .addGrid(als.regParam, [0.01, 0.05, 0.1, 0.5, 1])\n",
        "             .build())"
      ],
      "execution_count": null,
      "outputs": []
    },
    {
      "cell_type": "code",
      "metadata": {
        "id": "rKkD2pPJbOH7"
      },
      "source": [
        "# define evaluator as RMSE\n",
        "\n",
        "evaluator = RegressionEvaluator(metricName='rmse', labelCol='rating')"
      ],
      "execution_count": null,
      "outputs": []
    },
    {
      "cell_type": "code",
      "metadata": {
        "id": "8p9VoDJfbPkg"
      },
      "source": [
        "# build cross validation\n",
        "\n",
        "cv = CrossValidator(estimator=als, estimatorParamMaps=paramGrid, evaluator=evaluator, numFolds=5, parallelism=3)"
      ],
      "execution_count": null,
      "outputs": []
    },
    {
      "cell_type": "code",
      "metadata": {
        "id": "nC-YHS5lbREd"
      },
      "source": [
        "# fit ALS model to training data\n",
        "\n",
        "model = cv.fit(training)"
      ],
      "execution_count": null,
      "outputs": []
    },
    {
      "cell_type": "code",
      "metadata": {
        "id": "1z62RIeibSdM"
      },
      "source": [
        "# extract the best model derived from cross-validation\n",
        "\n",
        "best_model = model.bestModel"
      ],
      "execution_count": null,
      "outputs": []
    },
    {
      "cell_type": "markdown",
      "metadata": {
        "id": "LefyTySxjNmC"
      },
      "source": [
        "### <br> **3.3 Model evaluation and testing**\n",
        "I'll evaluate the model performance with RMSE, get the best parameters, and make predictions with the best model on testing data.\n",
        "<br><br>"
      ]
    },
    {
      "cell_type": "code",
      "metadata": {
        "id": "VYo1kdwjiqKd"
      },
      "source": [
        "# generate predictions and evaluate using RMSE\n",
        "\n",
        "predictions = best_model.transform(test)\n",
        "rmse = evaluator.evaluate(predictions)"
      ],
      "execution_count": null,
      "outputs": []
    },
    {
      "cell_type": "code",
      "metadata": {
        "colab": {
          "base_uri": "https://localhost:8080/"
        },
        "id": "hxrajK_3jPwj",
        "outputId": "64a968ce-5ba1-44da-9e8c-a65fb4c74980"
      },
      "source": [
        "# print evaluation metrics and model parameters\n",
        "\n",
        "print('RMSE = ' + str(rmse))\n",
        "print('**Best Model**')\n",
        "print(' Rank: ' + str(best_model.rank))\n",
        "print(' MaxIter: ' + str(best_model._java_obj.parent().getMaxIter()))\n",
        "print(' RegParam: ' + str(best_model._java_obj.parent().getRegParam()))"
      ],
      "execution_count": null,
      "outputs": [
        {
          "output_type": "stream",
          "text": [
            "RMSE = 0.8734780948785988\n",
            "**Best Model**\n",
            " Rank: 5\n",
            " MaxIter: 20\n",
            " RegParam: 0.1\n"
          ],
          "name": "stdout"
        }
      ]
    },
    {
      "cell_type": "code",
      "metadata": {
        "colab": {
          "base_uri": "https://localhost:8080/"
        },
        "id": "FiASYQOsk79b",
        "outputId": "015c8297-46f9-4a2a-a0a6-13c2b5ad3237"
      },
      "source": [
        "predictions.show()"
      ],
      "execution_count": null,
      "outputs": [
        {
          "output_type": "stream",
          "text": [
            "+------+-------+------+----------+\n",
            "|userId|movieId|rating|prediction|\n",
            "+------+-------+------+----------+\n",
            "|    91|    471|   1.0| 2.5700579|\n",
            "|   555|    471|   3.0| 3.6426597|\n",
            "|   520|    471|   5.0| 3.7199087|\n",
            "|   216|    471|   3.0| 3.3477087|\n",
            "|   411|    471|   4.0| 2.8862646|\n",
            "|   426|    471|   5.0| 3.5451188|\n",
            "|   373|    471|   5.0|  3.786501|\n",
            "|   609|    833|   3.0| 1.6236358|\n",
            "|    64|   1088|   4.0|  3.213802|\n",
            "|   563|   1088|   4.0| 3.3304694|\n",
            "|   387|   1088|   1.5| 2.5037713|\n",
            "|    84|   1088|   3.0| 3.3815079|\n",
            "|    51|   1088|   4.0|  3.394082|\n",
            "|   414|   1088|   3.0|   3.12684|\n",
            "|   525|   1088|   4.5| 3.2516308|\n",
            "|    42|   1088|   3.0| 3.2737103|\n",
            "|   268|   1238|   5.0|  4.059777|\n",
            "|   462|   1238|   3.5| 3.7874742|\n",
            "|   223|   1342|   1.0|   2.61581|\n",
            "|   608|   1342|   2.0|  3.108882|\n",
            "+------+-------+------+----------+\n",
            "only showing top 20 rows\n",
            "\n"
          ],
          "name": "stdout"
        }
      ]
    },
    {
      "cell_type": "markdown",
      "metadata": {
        "id": "NK7gRfoHPTx1"
      },
      "source": [
        "### <br> **3.4 Alternative model testing using the full Movielens dataset**\n",
        "I will use the full movielens dataset to further test the best model's performance.\n",
        "<br><br>"
      ]
    },
    {
      "cell_type": "code",
      "metadata": {
        "colab": {
          "background_save": true
        },
        "id": "EEqYSKdYIlYH"
      },
      "source": [
        "# get the dataset\n",
        "\n",
        "id = \"1XCoscHsVvNYZeW3bb3E1HFq5oWuZrcAq\"\n",
        "file = drive.CreateFile({'id':id}) \n",
        "file.GetContentFile('fullratings.csv') "
      ],
      "execution_count": null,
      "outputs": []
    },
    {
      "cell_type": "code",
      "metadata": {
        "colab": {
          "base_uri": "https://localhost:8080/"
        },
        "id": "fdJ4uBfQQbKM",
        "outputId": "bd4825a9-c212-42bb-8b0e-d51c38dd42ab"
      },
      "source": [
        "full_ratings = spark.read.load(\"fullratings.csv\", format='csv', header = True)\n",
        "full_ratings = full_ratings.drop('timestamp') \\\n",
        "                           .withColumn('userId', col('userId').cast(IntegerType())) \\\n",
        "                           .withColumn('movieId', col('movieId').cast(IntegerType())) \\\n",
        "                           .withColumn('rating', col('rating').cast(FloatType()))\n",
        "full_ratings.show()"
      ],
      "execution_count": null,
      "outputs": [
        {
          "output_type": "stream",
          "text": [
            "+------+-------+------+\n",
            "|userId|movieId|rating|\n",
            "+------+-------+------+\n",
            "|     1|    307|   3.5|\n",
            "|     1|    481|   3.5|\n",
            "|     1|   1091|   1.5|\n",
            "|     1|   1257|   4.5|\n",
            "|     1|   1449|   4.5|\n",
            "|     1|   1590|   2.5|\n",
            "|     1|   1591|   1.5|\n",
            "|     1|   2134|   4.5|\n",
            "|     1|   2478|   4.0|\n",
            "|     1|   2840|   3.0|\n",
            "|     1|   2986|   2.5|\n",
            "|     1|   3020|   4.0|\n",
            "|     1|   3424|   4.5|\n",
            "|     1|   3698|   3.5|\n",
            "|     1|   3826|   2.0|\n",
            "|     1|   3893|   3.5|\n",
            "|     2|    170|   3.5|\n",
            "|     2|    849|   3.5|\n",
            "|     2|   1186|   3.5|\n",
            "|     2|   1235|   3.0|\n",
            "+------+-------+------+\n",
            "only showing top 20 rows\n",
            "\n"
          ],
          "name": "stdout"
        }
      ]
    },
    {
      "cell_type": "code",
      "metadata": {
        "id": "_dZ-c28SRixq",
        "colab": {
          "base_uri": "https://localhost:8080/"
        },
        "outputId": "cf1cf77a-8d48-4d26-b4c1-a99c8dafc796"
      },
      "source": [
        "full_predictions = best_model.transform(full_ratings)\n",
        "rmse = evaluator.evaluate(full_predictions)\n",
        "print('RMSE = ' + str(rmse))"
      ],
      "execution_count": null,
      "outputs": [
        {
          "output_type": "stream",
          "text": [
            "RMSE = 1.2015137601941959\n"
          ],
          "name": "stdout"
        }
      ]
    },
    {
      "cell_type": "code",
      "metadata": {
        "id": "rN6XrieOSKLk",
        "colab": {
          "base_uri": "https://localhost:8080/"
        },
        "outputId": "453ae343-5c11-4bca-971e-c1a60037f724"
      },
      "source": [
        "full_predictions.show()"
      ],
      "execution_count": null,
      "outputs": [
        {
          "output_type": "stream",
          "text": [
            "+------+-------+------+----------+\n",
            "|userId|movieId|rating|prediction|\n",
            "+------+-------+------+----------+\n",
            "|   165|    148|   3.0| 2.6483757|\n",
            "|   251|    471|   3.0|  4.276767|\n",
            "|   593|    471|   3.0| 3.2378964|\n",
            "|    81|    471|   3.5|   2.77449|\n",
            "|   332|    471|   2.0|  3.272566|\n",
            "|   336|    471|   4.0| 3.4886627|\n",
            "|   417|    471|   3.0| 3.4968605|\n",
            "|   360|    471|   5.0| 3.3354547|\n",
            "|   185|    471|   4.0| 3.4695992|\n",
            "|   429|    471|   4.0| 3.9506187|\n",
            "|   295|    471|   4.0|  3.758897|\n",
            "|   432|    471|   3.0|  3.006175|\n",
            "|   235|    471|   4.0| 3.9211006|\n",
            "|   609|    471|   3.0| 2.8487773|\n",
            "|   423|    471|   3.0|  3.889041|\n",
            "|   485|    471|   4.0| 3.6557608|\n",
            "|     4|    471|   4.5| 3.5808876|\n",
            "|   549|    471|   3.5| 1.7442908|\n",
            "|   277|    471|   3.5| 2.6861544|\n",
            "|   428|    471|   5.0|  2.301082|\n",
            "+------+-------+------+----------+\n",
            "only showing top 20 rows\n",
            "\n"
          ],
          "name": "stdout"
        }
      ]
    },
    {
      "cell_type": "markdown",
      "metadata": {
        "id": "DiI3ac9HnzFW"
      },
      "source": [
        "## <br>**4. Apply the model and see the performance**\n",
        "First, I'll apply the best model to all ratings and get the predictions and RMSE. Next, I'll create some further applications with the model: making movie recommendations to a specified user, finding similar movies to a specified movie, and finding similar users to a specified user.\n",
        "<br><BR>"
      ]
    },
    {
      "cell_type": "markdown",
      "metadata": {
        "id": "8aoHBDwsYauH"
      },
      "source": [
        "### **4.1 Make predictions on all ratings**\n",
        "<br>"
      ]
    },
    {
      "cell_type": "code",
      "metadata": {
        "id": "cQypLh1qnRns",
        "colab": {
          "base_uri": "https://localhost:8080/"
        },
        "outputId": "bde6a6e3-25bd-4ffa-b5db-3b3eeea5d157"
      },
      "source": [
        "alldata = best_model.transform(movie_ratings)\n",
        "rmse = evaluator.evaluate(alldata)\n",
        "print('RMSE = ' + str(rmse))"
      ],
      "execution_count": null,
      "outputs": [
        {
          "output_type": "stream",
          "text": [
            "RMSE = 0.6879682968314835\n"
          ],
          "name": "stdout"
        }
      ]
    },
    {
      "cell_type": "code",
      "metadata": {
        "id": "p7oJpNMKn3Se"
      },
      "source": [
        "alldata.registerTempTable('alldata')"
      ],
      "execution_count": null,
      "outputs": []
    },
    {
      "cell_type": "code",
      "metadata": {
        "id": "fwa5Hjd7oNNZ",
        "colab": {
          "base_uri": "https://localhost:8080/"
        },
        "outputId": "29a00ec6-a3c2-4fa7-94b9-b10424291a18"
      },
      "source": [
        "spark.sql('select * from alldata').show()"
      ],
      "execution_count": null,
      "outputs": [
        {
          "output_type": "stream",
          "text": [
            "+------+-------+------+----------+\n",
            "|userId|movieId|rating|prediction|\n",
            "+------+-------+------+----------+\n",
            "|   191|    148|   5.0| 4.9088535|\n",
            "|   133|    471|   4.0|  3.160316|\n",
            "|   597|    471|   2.0|  4.316874|\n",
            "|   385|    471|   4.0| 3.1888158|\n",
            "|   436|    471|   3.0| 3.4699144|\n",
            "|   602|    471|   4.0| 3.3708653|\n",
            "|    91|    471|   1.0| 2.5700579|\n",
            "|   409|    471|   3.0| 3.5420384|\n",
            "|   372|    471|   3.0| 3.3641524|\n",
            "|   599|    471|   2.5| 2.7523317|\n",
            "|   603|    471|   4.0|  3.286894|\n",
            "|   182|    471|   4.5| 3.7909832|\n",
            "|   218|    471|   4.0| 3.1973581|\n",
            "|   474|    471|   3.0| 3.3265297|\n",
            "|   500|    471|   1.0| 2.4843462|\n",
            "|    57|    471|   3.0| 3.6280024|\n",
            "|   462|    471|   2.5| 2.5884402|\n",
            "|   387|    471|   3.0| 3.1550527|\n",
            "|   610|    471|   4.0| 3.6646678|\n",
            "|   217|    471|   2.0| 2.6178916|\n",
            "+------+-------+------+----------+\n",
            "only showing top 20 rows\n",
            "\n"
          ],
          "name": "stdout"
        }
      ]
    },
    {
      "cell_type": "markdown",
      "metadata": {
        "id": "agN-SuGOonWK"
      },
      "source": [
        "### <br> **4.2 Make movie recommendations to a specified user**\n",
        "I'll use the recommendForAllUsers method of ALSModel to make personalized movie recommendations to users.\n",
        "<br><br>"
      ]
    },
    {
      "cell_type": "code",
      "metadata": {
        "id": "HEvMABuBocUs"
      },
      "source": [
        "from pyspark.sql.functions import explode\n",
        "\n",
        "def recommend_movies_to_user(userId, num):\n",
        "  '''\n",
        "  userId: int\n",
        "  num: int, the number of recommended movies\n",
        "  '''\n",
        "  recommended_movies_all = best_model.recommendForAllUsers(num) \\\n",
        "                                     .withColumn('recommendations', explode(col('recommendations'))) \\\n",
        "                                     .withColumn('movieId', col('recommendations')['movieId']) \\\n",
        "                                     .withColumn('prediction', col('recommendations')['rating']) \\\n",
        "                                     .select('userId', 'movieId', 'prediction')\n",
        "  return recommended_movies_all.filter(col('userId')==userId).join(movies_df, 'movieId').select('movieId', 'title', 'genres', 'prediction')"
      ],
      "execution_count": null,
      "outputs": []
    },
    {
      "cell_type": "code",
      "metadata": {
        "id": "AdPmhXOboqpo",
        "colab": {
          "base_uri": "https://localhost:8080/"
        },
        "outputId": "de20e704-557d-4671-9f52-9f352e7aeed5"
      },
      "source": [
        "# recommend 10 movies to user with id 575\n",
        "\n",
        "result = recommend_movies_to_user(575, 10)\n",
        "result.show(truncate=False)"
      ],
      "execution_count": null,
      "outputs": [
        {
          "output_type": "stream",
          "text": [
            "+-------+----------------------------------+---------------------+----------+\n",
            "|movieId|title                             |genres               |prediction|\n",
            "+-------+----------------------------------+---------------------+----------+\n",
            "|26171  |Play Time (a.k.a. Playtime) (1967)|Comedy               |5.760414  |\n",
            "|70946  |Troll 2 (1990)                    |Fantasy|Horror       |5.5026865 |\n",
            "|7842   |Dune (2000)                       |Drama|Fantasy|Sci-Fi |5.4999223 |\n",
            "|60943  |Frozen River (2008)               |Drama                |5.3544703 |\n",
            "|7841   |Children of Dune (2003)           |Fantasy|Sci-Fi       |5.3544703 |\n",
            "|2261   |One Crazy Summer (1986)           |Comedy               |5.2885776 |\n",
            "|170355 |Mulholland Dr. (1999)             |Drama|Mystery|Romance|5.2243824 |\n",
            "|3379   |On the Beach (1959)               |Drama                |5.2243824 |\n",
            "|82     |Antonia's Line (Antonia) (1995)   |Comedy|Drama         |5.1518235 |\n",
            "|86377  |Louis C.K.: Shameless (2007)      |Comedy               |5.0577536 |\n",
            "+-------+----------------------------------+---------------------+----------+\n",
            "\n"
          ],
          "name": "stdout"
        }
      ]
    },
    {
      "cell_type": "code",
      "metadata": {
        "id": "d6eh7yUPoxFQ",
        "colab": {
          "base_uri": "https://localhost:8080/"
        },
        "outputId": "16193332-5e55-4c1d-fba9-5d37373c7984"
      },
      "source": [
        "# recommend 10 movies to user with id 232\n",
        "\n",
        "result = recommend_movies_to_user(232, 10)\n",
        "result.show(truncate=False)"
      ],
      "execution_count": null,
      "outputs": [
        {
          "output_type": "stream",
          "text": [
            "+-------+---------------------------------------------------------------------------+--------------------+----------+\n",
            "|movieId|title                                                                      |genres              |prediction|\n",
            "+-------+---------------------------------------------------------------------------+--------------------+----------+\n",
            "|84847  |Emma (2009)                                                                |Comedy|Drama|Romance|4.8353314 |\n",
            "|4256   |Center of the World, The (2001)                                            |Drama               |4.730609  |\n",
            "|134796 |Bitter Lake (2015)                                                         |Documentary         |4.730609  |\n",
            "|171495 |Cosmos                                                                     |(no genres listed)  |4.730609  |\n",
            "|74226  |Dream of Light (a.k.a. Quince Tree Sun, The) (Sol del membrillo, El) (1992)|Documentary|Drama   |4.730609  |\n",
            "|179135 |Blue Planet II (2017)                                                      |Documentary         |4.730609  |\n",
            "|84273  |Zeitgeist: Moving Forward (2011)                                           |Documentary         |4.730609  |\n",
            "|72171  |Black Dynamite (2009)                                                      |Action|Comedy       |4.730609  |\n",
            "|184245 |De platte jungle (1978)                                                    |Documentary         |4.730609  |\n",
            "|7071   |Woman Under the Influence, A (1974)                                        |Drama               |4.730609  |\n",
            "+-------+---------------------------------------------------------------------------+--------------------+----------+\n",
            "\n"
          ],
          "name": "stdout"
        }
      ]
    },
    {
      "cell_type": "markdown",
      "metadata": {
        "id": "Q7dfF3JlrFZ_"
      },
      "source": [
        "### <br> **4.3 Find similar movies to a specified movie**\n",
        "Since the ALS model stores item features and user features, I could use these features to compute cosine similarity, so as to find similar movies/users to any specified movie/user.\n",
        "<br><br>"
      ]
    },
    {
      "cell_type": "code",
      "metadata": {
        "id": "GqEn6iI6o-dG"
      },
      "source": [
        "movies_df = movies_df.withColumn('movieId', col('movieId').cast(IntegerType()))\n",
        "df_movies = movies_df.toPandas()\n",
        "item_factors = best_model.itemFactors.toPandas()"
      ],
      "execution_count": null,
      "outputs": []
    },
    {
      "cell_type": "code",
      "metadata": {
        "id": "DLmbVUyCrHaa"
      },
      "source": [
        "def similar_movies(movieId, num):\n",
        "  '''\n",
        "  movieId: int\n",
        "  num: int, the number of similar movies\n",
        "  '''\n",
        "  try:\n",
        "    features = item_factors[item_factors.id == movieId].iloc[0, 1]\n",
        "  except:\n",
        "    return 'There is no movie with id ' + str(movieId)\n",
        "  \n",
        "  similarities = np.empty((item_factors.shape[0], 2))\n",
        "  for i in range(item_factors.shape[0]):\n",
        "    id = item_factors.iloc[i, 0]\n",
        "    numerator = np.dot(features, item_factors.iloc[i, 1])\n",
        "    denominator = np.linalg.norm(features) * np.linalg.norm(item_factors.iloc[i, 1])\n",
        "    cos_similarity = numerator / denominator\n",
        "    similarities[i] = [id, cos_similarity]\n",
        "  \n",
        "  df_similarities = pd.DataFrame(similarities, columns = ['movieId', 'similarity']) \\\n",
        "                      .astype({\"movieId\": int, \"similarity\": float}) \\\n",
        "                      .sort_values(by = 'similarity', ascending = False)\n",
        "  return df_similarities.iloc[1:num+1, :].merge(df_movies, on = 'movieId')"
      ],
      "execution_count": null,
      "outputs": []
    },
    {
      "cell_type": "code",
      "metadata": {
        "id": "yMS6iYVsrJFh",
        "colab": {
          "base_uri": "https://localhost:8080/",
          "height": 359
        },
        "outputId": "15498cf1-d96b-42ce-e48d-6e48c3e567af"
      },
      "source": [
        "# 10 movies most similar to the movie with id 165\n",
        "\n",
        "similar_movies(165, 10)"
      ],
      "execution_count": null,
      "outputs": [
        {
          "output_type": "execute_result",
          "data": {
            "text/html": [
              "<div>\n",
              "<style scoped>\n",
              "    .dataframe tbody tr th:only-of-type {\n",
              "        vertical-align: middle;\n",
              "    }\n",
              "\n",
              "    .dataframe tbody tr th {\n",
              "        vertical-align: top;\n",
              "    }\n",
              "\n",
              "    .dataframe thead th {\n",
              "        text-align: right;\n",
              "    }\n",
              "</style>\n",
              "<table border=\"1\" class=\"dataframe\">\n",
              "  <thead>\n",
              "    <tr style=\"text-align: right;\">\n",
              "      <th></th>\n",
              "      <th>movieId</th>\n",
              "      <th>similarity</th>\n",
              "      <th>title</th>\n",
              "      <th>genres</th>\n",
              "    </tr>\n",
              "  </thead>\n",
              "  <tbody>\n",
              "    <tr>\n",
              "      <th>0</th>\n",
              "      <td>83613</td>\n",
              "      <td>0.997315</td>\n",
              "      <td>Cowboys &amp; Aliens (2011)</td>\n",
              "      <td>Action|Sci-Fi|Thriller|Western|IMAX</td>\n",
              "    </tr>\n",
              "    <tr>\n",
              "      <th>1</th>\n",
              "      <td>3827</td>\n",
              "      <td>0.996754</td>\n",
              "      <td>Space Cowboys (2000)</td>\n",
              "      <td>Action|Adventure|Comedy|Sci-Fi</td>\n",
              "    </tr>\n",
              "    <tr>\n",
              "      <th>2</th>\n",
              "      <td>3071</td>\n",
              "      <td>0.996030</td>\n",
              "      <td>Stand and Deliver (1988)</td>\n",
              "      <td>Comedy|Drama</td>\n",
              "    </tr>\n",
              "    <tr>\n",
              "      <th>3</th>\n",
              "      <td>6298</td>\n",
              "      <td>0.995200</td>\n",
              "      <td>Malibu's Most Wanted (2003)</td>\n",
              "      <td>Comedy|Crime</td>\n",
              "    </tr>\n",
              "    <tr>\n",
              "      <th>4</th>\n",
              "      <td>445</td>\n",
              "      <td>0.995151</td>\n",
              "      <td>Fatal Instinct (1993)</td>\n",
              "      <td>Comedy</td>\n",
              "    </tr>\n",
              "    <tr>\n",
              "      <th>5</th>\n",
              "      <td>37739</td>\n",
              "      <td>0.994441</td>\n",
              "      <td>Greatest Game Ever Played, The (2005)</td>\n",
              "      <td>Drama</td>\n",
              "    </tr>\n",
              "    <tr>\n",
              "      <th>6</th>\n",
              "      <td>1485</td>\n",
              "      <td>0.993698</td>\n",
              "      <td>Liar Liar (1997)</td>\n",
              "      <td>Comedy</td>\n",
              "    </tr>\n",
              "    <tr>\n",
              "      <th>7</th>\n",
              "      <td>94985</td>\n",
              "      <td>0.993447</td>\n",
              "      <td>Get the Gringo (2012)</td>\n",
              "      <td>Action|Crime|Drama|Thriller</td>\n",
              "    </tr>\n",
              "    <tr>\n",
              "      <th>8</th>\n",
              "      <td>832</td>\n",
              "      <td>0.993299</td>\n",
              "      <td>Ransom (1996)</td>\n",
              "      <td>Crime|Thriller</td>\n",
              "    </tr>\n",
              "    <tr>\n",
              "      <th>9</th>\n",
              "      <td>251</td>\n",
              "      <td>0.992782</td>\n",
              "      <td>Hunted, The (1995)</td>\n",
              "      <td>Action</td>\n",
              "    </tr>\n",
              "  </tbody>\n",
              "</table>\n",
              "</div>"
            ],
            "text/plain": [
              "   movieId  ...                               genres\n",
              "0    83613  ...  Action|Sci-Fi|Thriller|Western|IMAX\n",
              "1     3827  ...       Action|Adventure|Comedy|Sci-Fi\n",
              "2     3071  ...                         Comedy|Drama\n",
              "3     6298  ...                         Comedy|Crime\n",
              "4      445  ...                               Comedy\n",
              "5    37739  ...                                Drama\n",
              "6     1485  ...                               Comedy\n",
              "7    94985  ...          Action|Crime|Drama|Thriller\n",
              "8      832  ...                       Crime|Thriller\n",
              "9      251  ...                               Action\n",
              "\n",
              "[10 rows x 4 columns]"
            ]
          },
          "metadata": {
            "tags": []
          },
          "execution_count": 86
        }
      ]
    },
    {
      "cell_type": "code",
      "metadata": {
        "colab": {
          "base_uri": "https://localhost:8080/",
          "height": 80
        },
        "id": "W1JbeHkQaBIv",
        "outputId": "25ecd1ca-ee08-40fc-cc9a-dcd9e39044d8"
      },
      "source": [
        "df_movies[df_movies.movieId == 165]"
      ],
      "execution_count": null,
      "outputs": [
        {
          "output_type": "execute_result",
          "data": {
            "text/html": [
              "<div>\n",
              "<style scoped>\n",
              "    .dataframe tbody tr th:only-of-type {\n",
              "        vertical-align: middle;\n",
              "    }\n",
              "\n",
              "    .dataframe tbody tr th {\n",
              "        vertical-align: top;\n",
              "    }\n",
              "\n",
              "    .dataframe thead th {\n",
              "        text-align: right;\n",
              "    }\n",
              "</style>\n",
              "<table border=\"1\" class=\"dataframe\">\n",
              "  <thead>\n",
              "    <tr style=\"text-align: right;\">\n",
              "      <th></th>\n",
              "      <th>movieId</th>\n",
              "      <th>title</th>\n",
              "      <th>genres</th>\n",
              "    </tr>\n",
              "  </thead>\n",
              "  <tbody>\n",
              "    <tr>\n",
              "      <th>138</th>\n",
              "      <td>165</td>\n",
              "      <td>Die Hard: With a Vengeance (1995)</td>\n",
              "      <td>Action|Crime|Thriller</td>\n",
              "    </tr>\n",
              "  </tbody>\n",
              "</table>\n",
              "</div>"
            ],
            "text/plain": [
              "     movieId                              title                 genres\n",
              "138      165  Die Hard: With a Vengeance (1995)  Action|Crime|Thriller"
            ]
          },
          "metadata": {
            "tags": []
          },
          "execution_count": 87
        }
      ]
    },
    {
      "cell_type": "code",
      "metadata": {
        "id": "cjaoCWzarKu7",
        "colab": {
          "base_uri": "https://localhost:8080/",
          "height": 359
        },
        "outputId": "332b195a-d0a8-4660-a87c-9d570b9609ae"
      },
      "source": [
        "# 10 movies most similar to the movie with id 471\n",
        "\n",
        "similar_movies(471, 10)"
      ],
      "execution_count": null,
      "outputs": [
        {
          "output_type": "execute_result",
          "data": {
            "text/html": [
              "<div>\n",
              "<style scoped>\n",
              "    .dataframe tbody tr th:only-of-type {\n",
              "        vertical-align: middle;\n",
              "    }\n",
              "\n",
              "    .dataframe tbody tr th {\n",
              "        vertical-align: top;\n",
              "    }\n",
              "\n",
              "    .dataframe thead th {\n",
              "        text-align: right;\n",
              "    }\n",
              "</style>\n",
              "<table border=\"1\" class=\"dataframe\">\n",
              "  <thead>\n",
              "    <tr style=\"text-align: right;\">\n",
              "      <th></th>\n",
              "      <th>movieId</th>\n",
              "      <th>similarity</th>\n",
              "      <th>title</th>\n",
              "      <th>genres</th>\n",
              "    </tr>\n",
              "  </thead>\n",
              "  <tbody>\n",
              "    <tr>\n",
              "      <th>0</th>\n",
              "      <td>2937</td>\n",
              "      <td>0.996900</td>\n",
              "      <td>Palm Beach Story, The (1942)</td>\n",
              "      <td>Comedy</td>\n",
              "    </tr>\n",
              "    <tr>\n",
              "      <th>1</th>\n",
              "      <td>3083</td>\n",
              "      <td>0.996399</td>\n",
              "      <td>All About My Mother (Todo sobre mi madre) (1999)</td>\n",
              "      <td>Drama</td>\n",
              "    </tr>\n",
              "    <tr>\n",
              "      <th>2</th>\n",
              "      <td>313</td>\n",
              "      <td>0.995804</td>\n",
              "      <td>Swan Princess, The (1994)</td>\n",
              "      <td>Animation|Children</td>\n",
              "    </tr>\n",
              "    <tr>\n",
              "      <th>3</th>\n",
              "      <td>27731</td>\n",
              "      <td>0.993522</td>\n",
              "      <td>Cat Returns, The (Neko no ongaeshi) (2002)</td>\n",
              "      <td>Adventure|Animation|Children|Fantasy</td>\n",
              "    </tr>\n",
              "    <tr>\n",
              "      <th>4</th>\n",
              "      <td>2100</td>\n",
              "      <td>0.992877</td>\n",
              "      <td>Splash (1984)</td>\n",
              "      <td>Comedy|Fantasy|Romance</td>\n",
              "    </tr>\n",
              "    <tr>\n",
              "      <th>5</th>\n",
              "      <td>3983</td>\n",
              "      <td>0.992632</td>\n",
              "      <td>You Can Count on Me (2000)</td>\n",
              "      <td>Drama|Romance</td>\n",
              "    </tr>\n",
              "    <tr>\n",
              "      <th>6</th>\n",
              "      <td>2060</td>\n",
              "      <td>0.991633</td>\n",
              "      <td>BASEketball (1998)</td>\n",
              "      <td>Comedy</td>\n",
              "    </tr>\n",
              "    <tr>\n",
              "      <th>7</th>\n",
              "      <td>1696</td>\n",
              "      <td>0.991020</td>\n",
              "      <td>Bent (1997)</td>\n",
              "      <td>Drama|War</td>\n",
              "    </tr>\n",
              "    <tr>\n",
              "      <th>8</th>\n",
              "      <td>6238</td>\n",
              "      <td>0.987916</td>\n",
              "      <td>Green Card (1990)</td>\n",
              "      <td>Comedy|Drama|Romance</td>\n",
              "    </tr>\n",
              "    <tr>\n",
              "      <th>9</th>\n",
              "      <td>3055</td>\n",
              "      <td>0.986899</td>\n",
              "      <td>Felicia's Journey (1999)</td>\n",
              "      <td>Thriller</td>\n",
              "    </tr>\n",
              "  </tbody>\n",
              "</table>\n",
              "</div>"
            ],
            "text/plain": [
              "   movieId  ...                                genres\n",
              "0     2937  ...                                Comedy\n",
              "1     3083  ...                                 Drama\n",
              "2      313  ...                    Animation|Children\n",
              "3    27731  ...  Adventure|Animation|Children|Fantasy\n",
              "4     2100  ...                Comedy|Fantasy|Romance\n",
              "5     3983  ...                         Drama|Romance\n",
              "6     2060  ...                                Comedy\n",
              "7     1696  ...                             Drama|War\n",
              "8     6238  ...                  Comedy|Drama|Romance\n",
              "9     3055  ...                              Thriller\n",
              "\n",
              "[10 rows x 4 columns]"
            ]
          },
          "metadata": {
            "tags": []
          },
          "execution_count": 81
        }
      ]
    },
    {
      "cell_type": "code",
      "metadata": {
        "id": "le-_yzBaUMzZ",
        "colab": {
          "base_uri": "https://localhost:8080/",
          "height": 80
        },
        "outputId": "d15d51e2-cc49-4f10-eb0c-328cf5893ec9"
      },
      "source": [
        "df_movies[df_movies.movieId == 471]"
      ],
      "execution_count": null,
      "outputs": [
        {
          "output_type": "execute_result",
          "data": {
            "text/html": [
              "<div>\n",
              "<style scoped>\n",
              "    .dataframe tbody tr th:only-of-type {\n",
              "        vertical-align: middle;\n",
              "    }\n",
              "\n",
              "    .dataframe tbody tr th {\n",
              "        vertical-align: top;\n",
              "    }\n",
              "\n",
              "    .dataframe thead th {\n",
              "        text-align: right;\n",
              "    }\n",
              "</style>\n",
              "<table border=\"1\" class=\"dataframe\">\n",
              "  <thead>\n",
              "    <tr style=\"text-align: right;\">\n",
              "      <th></th>\n",
              "      <th>movieId</th>\n",
              "      <th>title</th>\n",
              "      <th>genres</th>\n",
              "    </tr>\n",
              "  </thead>\n",
              "  <tbody>\n",
              "    <tr>\n",
              "      <th>409</th>\n",
              "      <td>471</td>\n",
              "      <td>Hudsucker Proxy, The (1994)</td>\n",
              "      <td>Comedy</td>\n",
              "    </tr>\n",
              "  </tbody>\n",
              "</table>\n",
              "</div>"
            ],
            "text/plain": [
              "     movieId                        title  genres\n",
              "409      471  Hudsucker Proxy, The (1994)  Comedy"
            ]
          },
          "metadata": {
            "tags": []
          },
          "execution_count": 82
        }
      ]
    },
    {
      "cell_type": "markdown",
      "metadata": {
        "id": "_pCYby1rbIaB"
      },
      "source": [
        "### <br> **4.4 Find similar users to a specified user**\n",
        "<br>"
      ]
    },
    {
      "cell_type": "code",
      "metadata": {
        "id": "9u7arxbLbVpX"
      },
      "source": [
        "user_factors = best_model.userFactors.toPandas()\n",
        "\n",
        "def similar_users(userId, num):\n",
        "  try:\n",
        "    features = user_factors[user_factors.id == userId].iloc[0, 1]\n",
        "  except:\n",
        "    return 'There is no user with id ' + str(userId)\n",
        "  \n",
        "  similarities = np.empty((user_factors.shape[0], 2))\n",
        "  for i in range(user_factors.shape[0]):\n",
        "    id = user_factors.iloc[i, 0]\n",
        "    numerator = np.dot(features, user_factors.iloc[i, 1])\n",
        "    denominator = np.linalg.norm(features) * np.linalg.norm(user_factors.iloc[i, 1])\n",
        "    cos_similarity = numerator / denominator\n",
        "    similarities[i] = [id, cos_similarity]\n",
        "  \n",
        "  df_similarities = pd.DataFrame(similarities, columns = ['userId', 'similarity']) \\\n",
        "                      .astype({\"userId\": int, \"similarity\": float}) \\\n",
        "                      .sort_values(by = 'similarity', ascending = False)\n",
        "  return df_similarities.iloc[1:num+1, :]"
      ],
      "execution_count": null,
      "outputs": []
    },
    {
      "cell_type": "code",
      "metadata": {
        "id": "KBwn5z3odWzP",
        "colab": {
          "base_uri": "https://localhost:8080/",
          "height": 359
        },
        "outputId": "f5b0612d-6fb9-4a42-e948-35eb2231cf41"
      },
      "source": [
        "# 10 users most similar to the user with id 134\n",
        "\n",
        "similar_users(134, 10)"
      ],
      "execution_count": null,
      "outputs": [
        {
          "output_type": "execute_result",
          "data": {
            "text/html": [
              "<div>\n",
              "<style scoped>\n",
              "    .dataframe tbody tr th:only-of-type {\n",
              "        vertical-align: middle;\n",
              "    }\n",
              "\n",
              "    .dataframe tbody tr th {\n",
              "        vertical-align: top;\n",
              "    }\n",
              "\n",
              "    .dataframe thead th {\n",
              "        text-align: right;\n",
              "    }\n",
              "</style>\n",
              "<table border=\"1\" class=\"dataframe\">\n",
              "  <thead>\n",
              "    <tr style=\"text-align: right;\">\n",
              "      <th></th>\n",
              "      <th>userId</th>\n",
              "      <th>similarity</th>\n",
              "    </tr>\n",
              "  </thead>\n",
              "  <tbody>\n",
              "    <tr>\n",
              "      <th>348</th>\n",
              "      <td>435</td>\n",
              "      <td>0.999610</td>\n",
              "    </tr>\n",
              "    <tr>\n",
              "      <th>95</th>\n",
              "      <td>341</td>\n",
              "      <td>0.998717</td>\n",
              "    </tr>\n",
              "    <tr>\n",
              "      <th>56</th>\n",
              "      <td>570</td>\n",
              "      <td>0.997840</td>\n",
              "    </tr>\n",
              "    <tr>\n",
              "      <th>572</th>\n",
              "      <td>239</td>\n",
              "      <td>0.994971</td>\n",
              "    </tr>\n",
              "    <tr>\n",
              "      <th>390</th>\n",
              "      <td>246</td>\n",
              "      <td>0.994737</td>\n",
              "    </tr>\n",
              "    <tr>\n",
              "      <th>204</th>\n",
              "      <td>213</td>\n",
              "      <td>0.994710</td>\n",
              "    </tr>\n",
              "    <tr>\n",
              "      <th>609</th>\n",
              "      <td>609</td>\n",
              "      <td>0.994647</td>\n",
              "    </tr>\n",
              "    <tr>\n",
              "      <th>138</th>\n",
              "      <td>162</td>\n",
              "      <td>0.994154</td>\n",
              "    </tr>\n",
              "    <tr>\n",
              "      <th>62</th>\n",
              "      <td>11</td>\n",
              "      <td>0.993705</td>\n",
              "    </tr>\n",
              "    <tr>\n",
              "      <th>178</th>\n",
              "      <td>562</td>\n",
              "      <td>0.993597</td>\n",
              "    </tr>\n",
              "  </tbody>\n",
              "</table>\n",
              "</div>"
            ],
            "text/plain": [
              "     userId  similarity\n",
              "348     435    0.999610\n",
              "95      341    0.998717\n",
              "56      570    0.997840\n",
              "572     239    0.994971\n",
              "390     246    0.994737\n",
              "204     213    0.994710\n",
              "609     609    0.994647\n",
              "138     162    0.994154\n",
              "62       11    0.993705\n",
              "178     562    0.993597"
            ]
          },
          "metadata": {
            "tags": []
          },
          "execution_count": 90
        }
      ]
    },
    {
      "cell_type": "code",
      "metadata": {
        "id": "T3y_1Hy6djRO",
        "colab": {
          "base_uri": "https://localhost:8080/",
          "height": 359
        },
        "outputId": "0c4572f5-01ac-4970-c2a8-680d8ca9e3a3"
      },
      "source": [
        "# 10 users most similar to the user with id 256\n",
        "\n",
        "similar_users(256, 10)"
      ],
      "execution_count": null,
      "outputs": [
        {
          "output_type": "execute_result",
          "data": {
            "text/html": [
              "<div>\n",
              "<style scoped>\n",
              "    .dataframe tbody tr th:only-of-type {\n",
              "        vertical-align: middle;\n",
              "    }\n",
              "\n",
              "    .dataframe tbody tr th {\n",
              "        vertical-align: top;\n",
              "    }\n",
              "\n",
              "    .dataframe thead th {\n",
              "        text-align: right;\n",
              "    }\n",
              "</style>\n",
              "<table border=\"1\" class=\"dataframe\">\n",
              "  <thead>\n",
              "    <tr style=\"text-align: right;\">\n",
              "      <th></th>\n",
              "      <th>userId</th>\n",
              "      <th>similarity</th>\n",
              "    </tr>\n",
              "  </thead>\n",
              "  <tbody>\n",
              "    <tr>\n",
              "      <th>377</th>\n",
              "      <td>116</td>\n",
              "      <td>0.993387</td>\n",
              "    </tr>\n",
              "    <tr>\n",
              "      <th>110</th>\n",
              "      <td>491</td>\n",
              "      <td>0.992079</td>\n",
              "    </tr>\n",
              "    <tr>\n",
              "      <th>221</th>\n",
              "      <td>383</td>\n",
              "      <td>0.991963</td>\n",
              "    </tr>\n",
              "    <tr>\n",
              "      <th>224</th>\n",
              "      <td>413</td>\n",
              "      <td>0.988579</td>\n",
              "    </tr>\n",
              "    <tr>\n",
              "      <th>123</th>\n",
              "      <td>12</td>\n",
              "      <td>0.985983</td>\n",
              "    </tr>\n",
              "    <tr>\n",
              "      <th>13</th>\n",
              "      <td>140</td>\n",
              "      <td>0.983033</td>\n",
              "    </tr>\n",
              "    <tr>\n",
              "      <th>93</th>\n",
              "      <td>321</td>\n",
              "      <td>0.980677</td>\n",
              "    </tr>\n",
              "    <tr>\n",
              "      <th>412</th>\n",
              "      <td>466</td>\n",
              "      <td>0.979963</td>\n",
              "    </tr>\n",
              "    <tr>\n",
              "      <th>502</th>\n",
              "      <td>148</td>\n",
              "      <td>0.976540</td>\n",
              "    </tr>\n",
              "    <tr>\n",
              "      <th>494</th>\n",
              "      <td>68</td>\n",
              "      <td>0.976530</td>\n",
              "    </tr>\n",
              "  </tbody>\n",
              "</table>\n",
              "</div>"
            ],
            "text/plain": [
              "     userId  similarity\n",
              "377     116    0.993387\n",
              "110     491    0.992079\n",
              "221     383    0.991963\n",
              "224     413    0.988579\n",
              "123      12    0.985983\n",
              "13      140    0.983033\n",
              "93      321    0.980677\n",
              "412     466    0.979963\n",
              "502     148    0.976540\n",
              "494      68    0.976530"
            ]
          },
          "metadata": {
            "tags": []
          },
          "execution_count": 91
        }
      ]
    },
    {
      "cell_type": "markdown",
      "metadata": {
        "id": "BABcH7CCezL1"
      },
      "source": [
        "##<br>**Final Report**"
      ]
    },
    {
      "cell_type": "markdown",
      "metadata": {
        "id": "DmVb_LzGe9wn"
      },
      "source": [
        "**Motivation**:<br><br>\n",
        "\n",
        "In the era of big data, recommendation system has become the core technology of internet businesses, which provides tremendous values through recommending personalized items to users. Of various approaches to build recommendation systems, the ALS model based on collaborative filtering approach is widely used and has many advantages such as low space cost and missing value imputation. Meanwhile, since the ALS model training based on matrix factorization tends to be time consuming, the Apache Spark ML cound be used to take advantage of its distributed computing. This motivated me to build a recommendation system with ALS model on Spark and to test its performance with real data.<br><br>"
      ]
    },
    {
      "cell_type": "markdown",
      "metadata": {
        "id": "8tw45R-orM9C"
      },
      "source": [
        "**Steps:**<br><br>\n",
        "\n",
        "\n",
        "1.   The first step is to set up the Spark Session in Google Colab, import packages, and load the data into Spark Dataframes. After that, I did some data exploration to understand the missing data and sparseness in the ratings data, which could be important in the model training process. This exploration shows that there is no missing data in the ratings, and less than half of movies are rated by only one user.<br><br>\n",
        "\n",
        "2.   I used Spark SQL to perform the OLAP process and further explore the data. There are 610 users and 9724 movies in the ratings data, 9742 movies in the movies data, and therefore 18 movies not in the ratings data. In the movies data, there are 20 genres in total after splitting the genre combinations for each movie, and number of movies belonging to each genre ranges from 34 to 4361.<br><Br>\n",
        "\n",
        "3.    The third step contains data transformation, model selection, training and tuning with cross validation. Data types in the ratings data were converted from string type to integer and float types, and training, testing datasets were created. Then I built up and trained an ALS model, set up a ParamGrid with hyperparameter sets and tuned the model with best parameters using 5-fold cross validation. Additionally, 3 model parallelism was used in cross validation to speed up the tuning process.<br><br>\n",
        "\n",
        "4.    The trained model was evaluated on testing dataset using root mean square error (RMSE) metric. Additionally, I used the Movielens full dataset to test the model performance on a larger dataset. <br><br>\n",
        "\n",
        "5.    Finally, I made some applications with the trained model, such as making personalized movie recommendations to specific users, and finding similar movies/users to specified movie/user.<br><br>\n"
      ]
    },
    {
      "cell_type": "markdown",
      "metadata": {
        "id": "eciuUomo_btZ"
      },
      "source": [
        "**Conclusion:**<br><br>\n",
        "\n",
        "In this notebook I have trained an ALS model for movie recommendation using Movielens data and tuned the model with best hyperparameters, deriving the RMSE score of 0.88 in the testing data and 1.20 in the full Movielens data. I have applied the model to recommend personalized movies to users, and to find similar movies/users for specified movie/user. Since the RMSE is still large, especially when further testing the model with full Movielens data, future work could focus on reducing the RMSE and increase the model robustness."
      ]
    }
  ]
}