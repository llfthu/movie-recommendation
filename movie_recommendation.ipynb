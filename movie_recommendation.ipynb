{
  "nbformat": 4,
  "nbformat_minor": 0,
  "metadata": {
    "colab": {
      "name": "Movie_Recommendation.ipynb",
      "provenance": [],
      "collapsed_sections": [],
      "authorship_tag": "ABX9TyPWFeZuyKLIohEzIX2hCVyQ"
    },
    "kernelspec": {
      "display_name": "Python 3",
      "name": "python3"
    }
  },
  "cells": [
    {
      "cell_type": "markdown",
      "metadata": {
        "id": "_DsGu5KMVQ_l"
      },
      "source": [
        "## **Spark Movie Recommendation**\n",
        "In this notebook, I will use an Alternating Least Squares (ALS) algorithm with Spark APIs to predict the ratings for the movies in [MovieLens small dataset](https://grouplens.org/datasets/movielens/latest/).\n",
        "<br><br>"
      ]
    },
    {
      "cell_type": "markdown",
      "metadata": {
        "id": "79Q5WFQTkrMN"
      },
      "source": [
        "### **Install Spark and import packages**\n",
        "<br>"
      ]
    },
    {
      "cell_type": "code",
      "metadata": {
        "id": "J4e73ESqDiNr",
        "colab": {
          "base_uri": "https://localhost:8080/"
        },
        "outputId": "b56c72ff-9e77-46c5-9850-5950bbf21d8a"
      },
      "source": [
        "!apt-get update\n",
        "!apt-get install openjdk-8-jdk-headless -qq > /dev/null"
      ],
      "execution_count": null,
      "outputs": [
        {
          "output_type": "stream",
          "text": [
            "Get:1 https://cloud.r-project.org/bin/linux/ubuntu bionic-cran40/ InRelease [3,626 B]\n",
            "Ign:2 https://developer.download.nvidia.com/compute/cuda/repos/ubuntu1804/x86_64  InRelease\n",
            "Get:3 http://security.ubuntu.com/ubuntu bionic-security InRelease [88.7 kB]\n",
            "Get:4 https://cloud.r-project.org/bin/linux/ubuntu bionic-cran40/ Packages [52.7 kB]\n",
            "Ign:5 https://developer.download.nvidia.com/compute/machine-learning/repos/ubuntu1804/x86_64  InRelease\n",
            "Hit:6 https://developer.download.nvidia.com/compute/cuda/repos/ubuntu1804/x86_64  Release\n",
            "Hit:7 https://developer.download.nvidia.com/compute/machine-learning/repos/ubuntu1804/x86_64  Release\n",
            "Hit:8 http://archive.ubuntu.com/ubuntu bionic InRelease\n",
            "Get:9 http://ppa.launchpad.net/c2d4u.team/c2d4u4.0+/ubuntu bionic InRelease [15.9 kB]\n",
            "Get:11 http://archive.ubuntu.com/ubuntu bionic-updates InRelease [88.7 kB]\n",
            "Hit:13 http://ppa.launchpad.net/cran/libgit2/ubuntu bionic InRelease\n",
            "Get:14 http://archive.ubuntu.com/ubuntu bionic-backports InRelease [74.6 kB]\n",
            "Get:15 http://ppa.launchpad.net/deadsnakes/ppa/ubuntu bionic InRelease [15.9 kB]\n",
            "Get:16 http://security.ubuntu.com/ubuntu bionic-security/main amd64 Packages [2,045 kB]\n",
            "Get:17 http://archive.ubuntu.com/ubuntu bionic-updates/universe amd64 Packages [2,170 kB]\n",
            "Hit:18 http://ppa.launchpad.net/graphics-drivers/ppa/ubuntu bionic InRelease\n",
            "Get:19 http://security.ubuntu.com/ubuntu bionic-security/universe amd64 Packages [1,402 kB]\n",
            "Get:20 http://ppa.launchpad.net/c2d4u.team/c2d4u4.0+/ubuntu bionic/main Sources [1,749 kB]\n",
            "Get:21 http://archive.ubuntu.com/ubuntu bionic-updates/main amd64 Packages [2,475 kB]\n",
            "Get:22 http://ppa.launchpad.net/c2d4u.team/c2d4u4.0+/ubuntu bionic/main amd64 Packages [895 kB]\n",
            "Get:23 http://ppa.launchpad.net/deadsnakes/ppa/ubuntu bionic/main amd64 Packages [39.5 kB]\n",
            "Fetched 11.1 MB in 7s (1,558 kB/s)\n",
            "Reading package lists... Done\n"
          ],
          "name": "stdout"
        }
      ]
    },
    {
      "cell_type": "code",
      "metadata": {
        "id": "MRIoyZMsDr0w",
        "colab": {
          "base_uri": "https://localhost:8080/"
        },
        "outputId": "1ac29c37-ab24-4ecc-f260-df67647daee3"
      },
      "source": [
        "!wget -q http://apache.forsale.plus/spark/spark-2.4.7/spark-2.4.7-bin-hadoop2.7.tgz\n",
        "!ls\n",
        "!tar xf spark-2.4.7-bin-hadoop2.7.tgz"
      ],
      "execution_count": null,
      "outputs": [
        {
          "output_type": "stream",
          "text": [
            "sample_data  spark-2.4.7-bin-hadoop2.7.tgz\n"
          ],
          "name": "stdout"
        }
      ]
    },
    {
      "cell_type": "code",
      "metadata": {
        "id": "0kJ0E1Q4VZz3",
        "colab": {
          "base_uri": "https://localhost:8080/"
        },
        "outputId": "22437e2a-ee39-4b82-ac0d-d421044c8083"
      },
      "source": [
        "!pip install -q findspark\n",
        "!pip install py4j\n",
        "\n",
        "!export JAVA_HOME=$(/usr/lib/jvm/java-8-openjdk-amd64 -v 1.8)\n",
        "! echo $JAVA_HOME\n",
        "import os\n",
        "os.environ[\"JAVA_HOME\"] = \"/usr/lib/jvm/java-8-openjdk-amd64\"\n",
        "os.environ[\"SPARK_HOME\"] = \"/content/spark-2.4.7-bin-hadoop2.7\"\n",
        "import findspark\n",
        "findspark.init(\"spark-2.4.7-bin-hadoop2.7\")# SPARK_HOME\n",
        "\n",
        "from pyspark.sql import SparkSession\n",
        "spark = SparkSession.builder.master(\"local[*]\").getOrCreate()"
      ],
      "execution_count": null,
      "outputs": [
        {
          "output_type": "stream",
          "text": [
            "Collecting py4j\n",
            "\u001b[?25l  Downloading https://files.pythonhosted.org/packages/2b/e2/543019a6e620b759a59f134158b4595766f9bf520a1081a2ba1a1809ba32/py4j-0.10.9.2-py2.py3-none-any.whl (198kB)\n",
            "\r\u001b[K     |█▋                              | 10kB 11.2MB/s eta 0:00:01\r\u001b[K     |███▎                            | 20kB 11.8MB/s eta 0:00:01\r\u001b[K     |█████                           | 30kB 8.1MB/s eta 0:00:01\r\u001b[K     |██████▋                         | 40kB 7.1MB/s eta 0:00:01\r\u001b[K     |████████▎                       | 51kB 4.2MB/s eta 0:00:01\r\u001b[K     |██████████                      | 61kB 4.7MB/s eta 0:00:01\r\u001b[K     |███████████▌                    | 71kB 4.9MB/s eta 0:00:01\r\u001b[K     |█████████████▏                  | 81kB 5.2MB/s eta 0:00:01\r\u001b[K     |██████████████▉                 | 92kB 5.2MB/s eta 0:00:01\r\u001b[K     |████████████████▌               | 102kB 4.1MB/s eta 0:00:01\r\u001b[K     |██████████████████▏             | 112kB 4.1MB/s eta 0:00:01\r\u001b[K     |███████████████████▉            | 122kB 4.1MB/s eta 0:00:01\r\u001b[K     |█████████████████████▍          | 133kB 4.1MB/s eta 0:00:01\r\u001b[K     |███████████████████████         | 143kB 4.1MB/s eta 0:00:01\r\u001b[K     |████████████████████████▊       | 153kB 4.1MB/s eta 0:00:01\r\u001b[K     |██████████████████████████▍     | 163kB 4.1MB/s eta 0:00:01\r\u001b[K     |████████████████████████████    | 174kB 4.1MB/s eta 0:00:01\r\u001b[K     |█████████████████████████████▊  | 184kB 4.1MB/s eta 0:00:01\r\u001b[K     |███████████████████████████████▎| 194kB 4.1MB/s eta 0:00:01\r\u001b[K     |████████████████████████████████| 204kB 4.1MB/s \n",
            "\u001b[?25hInstalling collected packages: py4j\n",
            "Successfully installed py4j-0.10.9.2\n",
            "/bin/bash: /usr/lib/jvm/java-8-openjdk-amd64: Is a directory\n",
            "\n"
          ],
          "name": "stdout"
        }
      ]
    },
    {
      "cell_type": "code",
      "metadata": {
        "colab": {
          "base_uri": "https://localhost:8080/"
        },
        "id": "OcJKu9VaVdJ7",
        "outputId": "66bd7f2a-35a9-4f0f-f014-880b5e064dd3"
      },
      "source": [
        "!ls"
      ],
      "execution_count": null,
      "outputs": [
        {
          "output_type": "stream",
          "text": [
            "sample_data  spark-2.4.7-bin-hadoop2.7\tspark-2.4.7-bin-hadoop2.7.tgz\n"
          ],
          "name": "stdout"
        }
      ]
    },
    {
      "cell_type": "code",
      "metadata": {
        "colab": {
          "base_uri": "https://localhost:8080/",
          "height": 35
        },
        "id": "v0tCdNSUVggO",
        "outputId": "f1e959d6-7da9-4ebd-81ba-fe482f6f25f1"
      },
      "source": [
        "spark.version"
      ],
      "execution_count": null,
      "outputs": [
        {
          "output_type": "execute_result",
          "data": {
            "application/vnd.google.colaboratory.intrinsic+json": {
              "type": "string"
            },
            "text/plain": [
              "'2.4.7'"
            ]
          },
          "metadata": {
            "tags": []
          },
          "execution_count": 5
        }
      ]
    },
    {
      "cell_type": "code",
      "metadata": {
        "id": "yfHD6v4AVh4r"
      },
      "source": [
        "import numpy as np\n",
        "import pandas as pd\n",
        "import seaborn as sns\n",
        "import matplotlib.pyplot as plt\n",
        "%matplotlib inline"
      ],
      "execution_count": null,
      "outputs": []
    },
    {
      "cell_type": "code",
      "metadata": {
        "id": "xruKbIeDVrW4"
      },
      "source": [
        "import os\n",
        "os.environ['PYSPARK_PYTHON'] = 'python3'"
      ],
      "execution_count": null,
      "outputs": []
    },
    {
      "cell_type": "code",
      "metadata": {
        "id": "k-mgUucXerJF"
      },
      "source": [
        "!pip install -U -q PyDrive\n",
        "\n",
        "from pydrive.auth import GoogleAuth\n",
        "from pydrive.drive import GoogleDrive\n",
        "from google.colab import auth\n",
        "from oauth2client.client import GoogleCredentials\n",
        "\n",
        "auth.authenticate_user()\n",
        "gauth = GoogleAuth()\n",
        "gauth.credentials = GoogleCredentials.get_application_default()\n",
        "drive = GoogleDrive(gauth)"
      ],
      "execution_count": null,
      "outputs": []
    },
    {
      "cell_type": "code",
      "metadata": {
        "id": "KiG7K687VxZ6"
      },
      "source": [
        "from pyspark.sql import SparkSession\n",
        "spark = SparkSession \\\n",
        "    .builder \\\n",
        "    .appName(\"moive analysis\") \\\n",
        "    .config(\"spark.some.config.option\", \"some-value\") \\\n",
        "    .getOrCreate()"
      ],
      "execution_count": null,
      "outputs": []
    },
    {
      "cell_type": "markdown",
      "metadata": {
        "id": "2QartVdyVzPG"
      },
      "source": [
        "\n",
        "##<br>**1. Data ETL and Data Exploration**\n",
        "I'll load the datasets into spark dataframes, and explore the data.\n",
        "\n",
        "<br>"
      ]
    },
    {
      "cell_type": "code",
      "metadata": {
        "colab": {
          "resources": {
            "http://localhost:8080/nbextensions/google.colab/files.js": {
              "data": "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",
              "ok": true,
              "headers": [
                [
                  "content-type",
                  "application/javascript"
                ]
              ],
              "status": 200,
              "status_text": ""
            }
          },
          "base_uri": "https://localhost:8080/",
          "height": 174
        },
        "id": "pxlChiJZVtlh",
        "outputId": "688eadda-5270-4f35-8ea0-fb633fa29c87"
      },
      "source": [
        "from google.colab import files\n",
        "\n",
        "uploaded = files.upload()"
      ],
      "execution_count": null,
      "outputs": [
        {
          "output_type": "display_data",
          "data": {
            "text/html": [
              "\n",
              "     <input type=\"file\" id=\"files-4f161738-dbc1-40e5-968d-d6765041e580\" name=\"files[]\" multiple disabled\n",
              "        style=\"border:none\" />\n",
              "     <output id=\"result-4f161738-dbc1-40e5-968d-d6765041e580\">\n",
              "      Upload widget is only available when the cell has been executed in the\n",
              "      current browser session. Please rerun this cell to enable.\n",
              "      </output>\n",
              "      <script src=\"/nbextensions/google.colab/files.js\"></script> "
            ],
            "text/plain": [
              "<IPython.core.display.HTML object>"
            ]
          },
          "metadata": {
            "tags": []
          }
        },
        {
          "output_type": "stream",
          "text": [
            "Saving links.csv to links.csv\n",
            "Saving movies.csv to movies.csv\n",
            "Saving ratings.csv to ratings.csv\n",
            "Saving tags.csv to tags.csv\n"
          ],
          "name": "stdout"
        }
      ]
    },
    {
      "cell_type": "code",
      "metadata": {
        "colab": {
          "base_uri": "https://localhost:8080/"
        },
        "id": "f1rUA8n9V9-w",
        "outputId": "b0c95e18-ee0e-468b-db35-8e3ba8e65efc"
      },
      "source": [
        "os.listdir()"
      ],
      "execution_count": null,
      "outputs": [
        {
          "output_type": "execute_result",
          "data": {
            "text/plain": [
              "['.config',\n",
              " 'adc.json',\n",
              " 'spark-2.4.7-bin-hadoop2.7.tgz',\n",
              " 'links.csv',\n",
              " 'tags.csv',\n",
              " 'movies.csv',\n",
              " 'spark-2.4.7-bin-hadoop2.7',\n",
              " 'ratings.csv',\n",
              " 'sample_data']"
            ]
          },
          "metadata": {
            "tags": []
          },
          "execution_count": 11
        }
      ]
    },
    {
      "cell_type": "code",
      "metadata": {
        "id": "5DAu87rKWKYG"
      },
      "source": [
        "movies_df = spark.read.load(\"./movies.csv\", format='csv', header = True)\n",
        "ratings_df = spark.read.load(\"./ratings.csv\", format='csv', header = True)\n",
        "links_df = spark.read.load(\"./links.csv\", format='csv', header = True)\n",
        "tags_df = spark.read.load(\"./tags.csv\", format='csv', header = True)"
      ],
      "execution_count": null,
      "outputs": []
    },
    {
      "cell_type": "code",
      "metadata": {
        "colab": {
          "base_uri": "https://localhost:8080/"
        },
        "id": "zxdxdUKfWbHZ",
        "outputId": "48db94ff-9c32-4a50-b06e-56aad35b7808"
      },
      "source": [
        "movies_df.show(5)"
      ],
      "execution_count": null,
      "outputs": [
        {
          "output_type": "stream",
          "text": [
            "+-------+--------------------+--------------------+\n",
            "|movieId|               title|              genres|\n",
            "+-------+--------------------+--------------------+\n",
            "|      1|    Toy Story (1995)|Adventure|Animati...|\n",
            "|      2|      Jumanji (1995)|Adventure|Childre...|\n",
            "|      3|Grumpier Old Men ...|      Comedy|Romance|\n",
            "|      4|Waiting to Exhale...|Comedy|Drama|Romance|\n",
            "|      5|Father of the Bri...|              Comedy|\n",
            "+-------+--------------------+--------------------+\n",
            "only showing top 5 rows\n",
            "\n"
          ],
          "name": "stdout"
        }
      ]
    },
    {
      "cell_type": "code",
      "metadata": {
        "colab": {
          "base_uri": "https://localhost:8080/"
        },
        "id": "nnIaIlNEWfM-",
        "outputId": "d7966f06-bfde-4610-b8af-6a46ed65f518"
      },
      "source": [
        "ratings_df.show(5)"
      ],
      "execution_count": null,
      "outputs": [
        {
          "output_type": "stream",
          "text": [
            "+------+-------+------+---------+\n",
            "|userId|movieId|rating|timestamp|\n",
            "+------+-------+------+---------+\n",
            "|     1|      1|   4.0|964982703|\n",
            "|     1|      3|   4.0|964981247|\n",
            "|     1|      6|   4.0|964982224|\n",
            "|     1|     47|   5.0|964983815|\n",
            "|     1|     50|   5.0|964982931|\n",
            "+------+-------+------+---------+\n",
            "only showing top 5 rows\n",
            "\n"
          ],
          "name": "stdout"
        }
      ]
    },
    {
      "cell_type": "code",
      "metadata": {
        "colab": {
          "base_uri": "https://localhost:8080/"
        },
        "id": "ibxU53FPWhA8",
        "outputId": "eda6eed0-9c96-4dc1-9ba4-457d62e68364"
      },
      "source": [
        "links_df.show(5)"
      ],
      "execution_count": null,
      "outputs": [
        {
          "output_type": "stream",
          "text": [
            "+-------+-------+------+\n",
            "|movieId| imdbId|tmdbId|\n",
            "+-------+-------+------+\n",
            "|      1|0114709|   862|\n",
            "|      2|0113497|  8844|\n",
            "|      3|0113228| 15602|\n",
            "|      4|0114885| 31357|\n",
            "|      5|0113041| 11862|\n",
            "+-------+-------+------+\n",
            "only showing top 5 rows\n",
            "\n"
          ],
          "name": "stdout"
        }
      ]
    },
    {
      "cell_type": "code",
      "metadata": {
        "colab": {
          "base_uri": "https://localhost:8080/"
        },
        "id": "Ge0wkRtWWjE9",
        "outputId": "f9390380-9af3-4dee-ec0d-750be94976f6"
      },
      "source": [
        "tags_df.show(5)"
      ],
      "execution_count": null,
      "outputs": [
        {
          "output_type": "stream",
          "text": [
            "+------+-------+---------------+----------+\n",
            "|userId|movieId|            tag| timestamp|\n",
            "+------+-------+---------------+----------+\n",
            "|     2|  60756|          funny|1445714994|\n",
            "|     2|  60756|Highly quotable|1445714996|\n",
            "|     2|  60756|   will ferrell|1445714992|\n",
            "|     2|  89774|   Boxing story|1445715207|\n",
            "|     2|  89774|            MMA|1445715200|\n",
            "+------+-------+---------------+----------+\n",
            "only showing top 5 rows\n",
            "\n"
          ],
          "name": "stdout"
        }
      ]
    },
    {
      "cell_type": "code",
      "metadata": {
        "colab": {
          "base_uri": "https://localhost:8080/"
        },
        "id": "GGveG8RBiTSc",
        "outputId": "8744c8af-a6c4-45a1-8c4f-ec80f57ba507"
      },
      "source": [
        "ratings_df.toPandas().isnull().sum()"
      ],
      "execution_count": null,
      "outputs": [
        {
          "output_type": "execute_result",
          "data": {
            "text/plain": [
              "userId       0\n",
              "movieId      0\n",
              "rating       0\n",
              "timestamp    0\n",
              "dtype: int64"
            ]
          },
          "metadata": {
            "tags": []
          },
          "execution_count": 17
        }
      ]
    },
    {
      "cell_type": "markdown",
      "metadata": {
        "id": "0c0d1prmpZVo"
      },
      "source": [
        "<br>There is no missing value in ratings (which I'll use to build the recommendation system later).\n",
        "<br><br>"
      ]
    },
    {
      "cell_type": "code",
      "metadata": {
        "id": "1w_l0ouWsKtT"
      },
      "source": [
        "rating_per_user = ratings_df.groupBy('userId').count().toPandas()\n",
        "rating_per_movie = ratings_df.groupBy('movieId').count().toPandas()"
      ],
      "execution_count": null,
      "outputs": []
    },
    {
      "cell_type": "code",
      "metadata": {
        "colab": {
          "base_uri": "https://localhost:8080/",
          "height": 337
        },
        "id": "Toy4XvCdsldy",
        "outputId": "1e6bea1d-53ff-4463-d29f-957cd7086011"
      },
      "source": [
        "ax = rating_per_user.hist('count', bins=100, figsize=(10,5))\n",
        "plt.xlabel('rating_per_user', fontsize=12)\n",
        "plt.ylabel('count', fontsize=12)\n",
        "plt.title('')\n",
        "plt.show()"
      ],
      "execution_count": null,
      "outputs": [
        {
          "output_type": "display_data",
          "data": {
            "image/png": "[encoded data removed]",
            "text/plain": [
              "<Figure size 720x360 with 1 Axes>"
            ]
          },
          "metadata": {
            "tags": [],
            "needs_background": "light"
          }
        }
      ]
    },
    {
      "cell_type": "code",
      "metadata": {
        "colab": {
          "base_uri": "https://localhost:8080/",
          "height": 337
        },
        "id": "OictcWo8y2X_",
        "outputId": "04b90860-8ae9-408b-cfc8-d9f8f5b32546"
      },
      "source": [
        "ax = rating_per_movie.hist('count',bins=100,figsize=(10,5))\n",
        "plt.xlabel('rating_per_movie', fontsize=12)\n",
        "plt.ylabel('count', fontsize=12)\n",
        "plt.title('')\n",
        "plt.show()"
      ],
      "execution_count": null,
      "outputs": [
        {
          "output_type": "display_data",
          "data": {
            "image/png": "[encoded data removed]",
            "text/plain": [
              "<Figure size 720x360 with 1 Axes>"
            ]
          },
          "metadata": {
            "tags": [],
            "needs_background": "light"
          }
        }
      ]
    },
    {
      "cell_type": "code",
      "metadata": {
        "colab": {
          "base_uri": "https://localhost:8080/"
        },
        "id": "P8TBzKqwWk_G",
        "outputId": "26797f48-a558-40e0-e629-7a60917b08ca"
      },
      "source": [
        "tmp1 = rating_per_user['count'].min()\n",
        "tmp2 = rating_per_movie['count'].min()\n",
        "print('For the users that rated movies and the movies that were rated:')\n",
        "print('Minimum number of ratings per user is {}'.format(tmp1))\n",
        "print('Minimum number of ratings per movie is {}'.format(tmp2))"
      ],
      "execution_count": null,
      "outputs": [
        {
          "output_type": "stream",
          "text": [
            "For the users that rated movies and the movies that were rated:\n",
            "Minimum number of ratings per user is 20\n",
            "Minimum number of ratings per movie is 1\n"
          ],
          "name": "stdout"
        }
      ]
    },
    {
      "cell_type": "code",
      "metadata": {
        "colab": {
          "base_uri": "https://localhost:8080/"
        },
        "id": "IYKtvJblWnKo",
        "outputId": "4ca55085-cd5a-43f9-a8cc-c6007b0b2eaf"
      },
      "source": [
        "tmp1 = sum(rating_per_movie['count'] == 1)\n",
        "tmp2 = ratings_df.select('movieId').distinct().count()\n",
        "print('{} out of {} movies have only one rating'.format(tmp1, tmp2))"
      ],
      "execution_count": null,
      "outputs": [
        {
          "output_type": "stream",
          "text": [
            "3446 out of 9724 movies have only one rating\n"
          ],
          "name": "stdout"
        }
      ]
    },
    {
      "cell_type": "markdown",
      "metadata": {
        "id": "5xadfljnrFaB"
      },
      "source": [
        "<br> Every movie in ratings has at least one rating, and more than 1/3 movies have only one rating."
      ]
    },
    {
      "cell_type": "markdown",
      "metadata": {
        "id": "WXsvhhUUWyNx"
      },
      "source": [
        "##**<br>2. Spark SQL and OLAP**\n",
        "I'll use spark sql to analyze the datasets, and extract some information of interest.\n",
        "<br><br>"
      ]
    },
    {
      "cell_type": "code",
      "metadata": {
        "id": "5jo8DqjMWvY0"
      },
      "source": [
        "movies_df.registerTempTable(\"movies\")\n",
        "ratings_df.registerTempTable(\"ratings\")\n",
        "links_df.registerTempTable(\"links\")\n",
        "tags_df.registerTempTable(\"tags\")"
      ],
      "execution_count": null,
      "outputs": []
    },
    {
      "cell_type": "markdown",
      "metadata": {
        "id": "NvewV78xXEnt"
      },
      "source": [
        "###<br>**2.1 The number of users that rated movies**\n",
        "<br>"
      ]
    },
    {
      "cell_type": "code",
      "metadata": {
        "colab": {
          "base_uri": "https://localhost:8080/"
        },
        "id": "pbaPwY0DW2m8",
        "outputId": "0c5e4c08-0a19-41c5-80d7-3bbd552e2f02"
      },
      "source": [
        "spark.sql('\\\n",
        "            select count(distinct userid) as Number_of_users \\\n",
        "            from ratings \\\n",
        "          ').show()"
      ],
      "execution_count": null,
      "outputs": [
        {
          "output_type": "stream",
          "text": [
            "+---------------+\n",
            "|Number_of_users|\n",
            "+---------------+\n",
            "|            610|\n",
            "+---------------+\n",
            "\n"
          ],
          "name": "stdout"
        }
      ]
    },
    {
      "cell_type": "markdown",
      "metadata": {
        "id": "dBOyL8dVXLxd"
      },
      "source": [
        "###<br>**2.2 The total number of movies**\n",
        "<br>"
      ]
    },
    {
      "cell_type": "code",
      "metadata": {
        "colab": {
          "base_uri": "https://localhost:8080/"
        },
        "id": "XS_KPcpDW7IU",
        "outputId": "4b88d598-e6ce-4d64-b462-ebb3c38ad76e"
      },
      "source": [
        "spark.sql('\\\n",
        "            select count(*) as Number_of_movies \\\n",
        "            from movies \\\n",
        "          ').show()"
      ],
      "execution_count": null,
      "outputs": [
        {
          "output_type": "stream",
          "text": [
            "+----------------+\n",
            "|Number_of_movies|\n",
            "+----------------+\n",
            "|            9742|\n",
            "+----------------+\n",
            "\n"
          ],
          "name": "stdout"
        }
      ]
    },
    {
      "cell_type": "markdown",
      "metadata": {
        "id": "_Du4uk7jXUqw"
      },
      "source": [
        "###<br>**2.3 The number of movies rated by users and movies not rated**\n",
        "<br>"
      ]
    },
    {
      "cell_type": "code",
      "metadata": {
        "colab": {
          "base_uri": "https://localhost:8080/"
        },
        "id": "RW0thm9HXR6I",
        "outputId": "1177830b-447e-42aa-db69-c2df4ab5240f"
      },
      "source": [
        "spark.sql('\\\n",
        "            select count(distinct movieid) as number_of_movies_rated \\\n",
        "            from ratings \\\n",
        "          ').show()"
      ],
      "execution_count": null,
      "outputs": [
        {
          "output_type": "stream",
          "text": [
            "+----------------------+\n",
            "|number_of_movies_rated|\n",
            "+----------------------+\n",
            "|                  9724|\n",
            "+----------------------+\n",
            "\n"
          ],
          "name": "stdout"
        }
      ]
    },
    {
      "cell_type": "code",
      "metadata": {
        "colab": {
          "base_uri": "https://localhost:8080/"
        },
        "id": "Nv-t6BBpXa3J",
        "outputId": "df8253e4-11d2-44af-aa55-3dc2471a034d"
      },
      "source": [
        "# movies not rated by any user\n",
        "\n",
        "spark.sql('\\\n",
        "            select title, genres \\\n",
        "            from movies \\\n",
        "            where movieid not in (select distinct movieid \\\n",
        "                                  from ratings)\\\n",
        "          ').show(truncate=False)"
      ],
      "execution_count": null,
      "outputs": [
        {
          "output_type": "stream",
          "text": [
            "+--------------------------------------------+------------------------+\n",
            "|title                                       |genres                  |\n",
            "+--------------------------------------------+------------------------+\n",
            "|Innocents, The (1961)                       |Drama|Horror|Thriller   |\n",
            "|Niagara (1953)                              |Drama|Thriller          |\n",
            "|For All Mankind (1989)                      |Documentary             |\n",
            "|Color of Paradise, The (Rang-e khoda) (1999)|Drama                   |\n",
            "|I Know Where I'm Going! (1945)              |Drama|Romance|War       |\n",
            "|Chosen, The (1981)                          |Drama                   |\n",
            "|Road Home, The (Wo de fu qin mu qin) (1999) |Drama|Romance           |\n",
            "|Scrooge (1970)                              |Drama|Fantasy|Musical   |\n",
            "|Proof (1991)                                |Comedy|Drama|Romance    |\n",
            "|Parallax View, The (1974)                   |Thriller                |\n",
            "|This Gun for Hire (1942)                    |Crime|Film-Noir|Thriller|\n",
            "|Roaring Twenties, The (1939)                |Crime|Drama|Thriller    |\n",
            "|Mutiny on the Bounty (1962)                 |Adventure|Drama|Romance |\n",
            "|In the Realms of the Unreal (2004)          |Animation|Documentary   |\n",
            "|Twentieth Century (1934)                    |Comedy                  |\n",
            "|Call Northside 777 (1948)                   |Crime|Drama|Film-Noir   |\n",
            "|Browning Version, The (1951)                |Drama                   |\n",
            "|Chalet Girl (2011)                          |Comedy|Romance          |\n",
            "+--------------------------------------------+------------------------+\n",
            "\n"
          ],
          "name": "stdout"
        }
      ]
    },
    {
      "cell_type": "markdown",
      "metadata": {
        "id": "UzZZZI_BX1tL"
      },
      "source": [
        "### <br>**2.4 Movie genres and their frequency**\n",
        "<br>"
      ]
    },
    {
      "cell_type": "code",
      "metadata": {
        "colab": {
          "base_uri": "https://localhost:8080/"
        },
        "id": "agLOTsflXhaI",
        "outputId": "fce023d7-37f2-4036-ec20-1c031942c842"
      },
      "source": [
        "spark.sql('\\\n",
        "            select genres as genre, \\\n",
        "                   count(*) as freq \\\n",
        "            from movies \\\n",
        "            group by genres \\\n",
        "          ').show()"
      ],
      "execution_count": null,
      "outputs": [
        {
          "output_type": "stream",
          "text": [
            "+--------------------+----+\n",
            "|               genre|freq|\n",
            "+--------------------+----+\n",
            "|Comedy|Horror|Thr...|  17|\n",
            "|Adventure|Sci-Fi|...|   4|\n",
            "|Action|Adventure|...|   6|\n",
            "| Action|Drama|Horror|   1|\n",
            "|Action|Animation|...|   2|\n",
            "|Animation|Childre...|   2|\n",
            "|Action|Adventure|...|  27|\n",
            "|    Adventure|Sci-Fi|  15|\n",
            "|Documentary|Music...|   1|\n",
            "|Adventure|Childre...|   1|\n",
            "| Adventure|Animation|   2|\n",
            "| Musical|Romance|War|   1|\n",
            "|Action|Adventure|...|   1|\n",
            "|Adventure|Childre...|   2|\n",
            "|Comedy|Crime|Horr...|   1|\n",
            "|Crime|Drama|Fanta...|   1|\n",
            "|Comedy|Mystery|Th...|   3|\n",
            "|   Adventure|Fantasy|  13|\n",
            "|Horror|Romance|Sc...|   1|\n",
            "|Drama|Film-Noir|R...|   2|\n",
            "+--------------------+----+\n",
            "only showing top 20 rows\n",
            "\n"
          ],
          "name": "stdout"
        }
      ]
    },
    {
      "cell_type": "markdown",
      "metadata": {
        "id": "0mCzlOPS2whl"
      },
      "source": [
        "<br> The genres in the movies dataset were grouped together for each movie; in order to find out the basic genres, I'll need to split them first.\n",
        "<br><br>"
      ]
    },
    {
      "cell_type": "code",
      "metadata": {
        "colab": {
          "base_uri": "https://localhost:8080/"
        },
        "id": "dl4k_CJ2X-I6",
        "outputId": "04cf5fe6-3acd-492e-c94f-5aee94d43a16"
      },
      "source": [
        "spark.sql(\"\\\n",
        "            select genre, \\\n",
        "                   count(*) as freq \\\n",
        "            from (select explode(split(genres, '[\\|]')) as genre \\\n",
        "                  from movies) \\\n",
        "            group by genre \\\n",
        "            order by genre \\\n",
        "          \").show()"
      ],
      "execution_count": null,
      "outputs": [
        {
          "output_type": "stream",
          "text": [
            "+------------------+----+\n",
            "|             genre|freq|\n",
            "+------------------+----+\n",
            "|(no genres listed)|  34|\n",
            "|            Action|1828|\n",
            "|         Adventure|1263|\n",
            "|         Animation| 611|\n",
            "|          Children| 664|\n",
            "|            Comedy|3756|\n",
            "|             Crime|1199|\n",
            "|       Documentary| 440|\n",
            "|             Drama|4361|\n",
            "|           Fantasy| 779|\n",
            "|         Film-Noir|  87|\n",
            "|            Horror| 978|\n",
            "|              IMAX| 158|\n",
            "|           Musical| 334|\n",
            "|           Mystery| 573|\n",
            "|           Romance|1596|\n",
            "|            Sci-Fi| 980|\n",
            "|          Thriller|1894|\n",
            "|               War| 382|\n",
            "|           Western| 167|\n",
            "+------------------+----+\n",
            "\n"
          ],
          "name": "stdout"
        }
      ]
    },
    {
      "cell_type": "markdown",
      "metadata": {
        "id": "FoU8KPFCZk5f"
      },
      "source": [
        "###<br>**2.5 Movies for each genre**\n",
        "<br>"
      ]
    },
    {
      "cell_type": "code",
      "metadata": {
        "colab": {
          "base_uri": "https://localhost:8080/"
        },
        "id": "bFc3tqbgYuMz",
        "outputId": "d082a35b-f100-4562-dda2-fba51478f5c6"
      },
      "source": [
        "spark.sql(\"\\\n",
        "            select genre, collect_set(title) as list_of_movies \\\n",
        "            from \\\n",
        "                (select explode(split(genres, '[\\|]')) as genre, title \\\n",
        "                 from movies) \\\n",
        "            group by genre \\\n",
        "          \").show(truncate=50)"
      ],
      "execution_count": null,
      "outputs": [
        {
          "output_type": "stream",
          "text": [
            "+------------------+--------------------------------------------------+\n",
            "|             genre|                                    list_of_movies|\n",
            "+------------------+--------------------------------------------------+\n",
            "|             Crime|[Stealing Rembrandt (Rembrandt) (2003), Innocen...|\n",
            "|           Romance|[Vampire in Brooklyn (1995), Hysteria (2011), F...|\n",
            "|          Thriller|[Element of Crime, The (Forbrydelsens Element) ...|\n",
            "|         Adventure|[Ice Age: Collision Course (2016), Masters of t...|\n",
            "|             Drama|[Airport '77 (1977), Meet John Doe (1941), Elem...|\n",
            "|               War|[General, The (1926), Joyeux Noël (Merry Christ...|\n",
            "|       Documentary|[The Barkley Marathons: The Race That Eats Its ...|\n",
            "|           Fantasy|[Masters of the Universe (1987), Odd Life of Ti...|\n",
            "|           Mystery|[Before and After (1996), Primal Fear (1996), O...|\n",
            "|           Musical|[U2: Rattle and Hum (1988), Sword in the Stone,...|\n",
            "|         Animation|[Ice Age: Collision Course (2016), Planes (2013...|\n",
            "|         Film-Noir|[Rififi (Du rififi chez les hommes) (1955), Swe...|\n",
            "|(no genres listed)|[T2 3-D: Battle Across Time (1996), A Midsummer...|\n",
            "|              IMAX|[Harry Potter and the Prisoner of Azkaban (2004...|\n",
            "|            Horror|[Underworld: Rise of the Lycans (2009), Vampire...|\n",
            "|           Western|[Man Who Shot Liberty Valance, The (1962), Lone...|\n",
            "|            Comedy|[Hysteria (2011), Humpday (2009), Meet John Doe...|\n",
            "|          Children|[Ice Age: Collision Course (2016), Nut Job, The...|\n",
            "|            Action|[Stealing Rembrandt (Rembrandt) (2003), Masters...|\n",
            "|            Sci-Fi|[Push (2009), SORI: Voice from the Heart (2016)...|\n",
            "+------------------+--------------------------------------------------+\n",
            "\n"
          ],
          "name": "stdout"
        }
      ]
    },
    {
      "cell_type": "markdown",
      "metadata": {
        "id": "Y9Zy4kXxayAV"
      },
      "source": [
        "##<br>**3. Spark ALS based approach for training model**\n",
        "In order to train an ALS model, I'll first preprocess ratings data by removing useless columns, converting datatypes, and spliting into training and testing datasets. For the modeling part, I'll use 5-fold cross-validation to tune hyper-parameters and get the best model.\n",
        "<br><br>"
      ]
    },
    {
      "cell_type": "markdown",
      "metadata": {
        "id": "b5M3pDtbK8MZ"
      },
      "source": [
        "###**3.1 Data preprocessing**<br><br>"
      ]
    },
    {
      "cell_type": "code",
      "metadata": {
        "colab": {
          "base_uri": "https://localhost:8080/"
        },
        "id": "uqUVBrHGaLvt",
        "outputId": "98a9641a-91f8-4b3b-a070-4b9ea44ae7dc"
      },
      "source": [
        "ratings_df.show()"
      ],
      "execution_count": null,
      "outputs": [
        {
          "output_type": "stream",
          "text": [
            "+------+-------+------+---------+\n",
            "|userId|movieId|rating|timestamp|\n",
            "+------+-------+------+---------+\n",
            "|     1|      1|   4.0|964982703|\n",
            "|     1|      3|   4.0|964981247|\n",
            "|     1|      6|   4.0|964982224|\n",
            "|     1|     47|   5.0|964983815|\n",
            "|     1|     50|   5.0|964982931|\n",
            "|     1|     70|   3.0|964982400|\n",
            "|     1|    101|   5.0|964980868|\n",
            "|     1|    110|   4.0|964982176|\n",
            "|     1|    151|   5.0|964984041|\n",
            "|     1|    157|   5.0|964984100|\n",
            "|     1|    163|   5.0|964983650|\n",
            "|     1|    216|   5.0|964981208|\n",
            "|     1|    223|   3.0|964980985|\n",
            "|     1|    231|   5.0|964981179|\n",
            "|     1|    235|   4.0|964980908|\n",
            "|     1|    260|   5.0|964981680|\n",
            "|     1|    296|   3.0|964982967|\n",
            "|     1|    316|   3.0|964982310|\n",
            "|     1|    333|   5.0|964981179|\n",
            "|     1|    349|   4.0|964982563|\n",
            "+------+-------+------+---------+\n",
            "only showing top 20 rows\n",
            "\n"
          ],
          "name": "stdout"
        }
      ]
    },
    {
      "cell_type": "code",
      "metadata": {
        "id": "H6q3nCuxa05b"
      },
      "source": [
        "movie_ratings = ratings_df.drop('timestamp')"
      ],
      "execution_count": null,
      "outputs": []
    },
    {
      "cell_type": "code",
      "metadata": {
        "colab": {
          "base_uri": "https://localhost:8080/"
        },
        "id": "loEDR-vAa2pU",
        "outputId": "21a918ab-912e-424c-fbc8-f86b161b152d"
      },
      "source": [
        "# convert data type\n",
        "\n",
        "from pyspark.sql.functions import col\n",
        "from pyspark.sql.types import IntegerType, FloatType\n",
        "movie_ratings = movie_ratings.withColumn('userId', col('userId').cast(IntegerType())) \\\n",
        "                             .withColumn('movieId', col('movieId').cast(IntegerType())) \\\n",
        "                             .withColumn('rating', col('rating').cast(FloatType()))\n",
        "movie_ratings.show()"
      ],
      "execution_count": null,
      "outputs": [
        {
          "output_type": "stream",
          "text": [
            "+------+-------+------+\n",
            "|userId|movieId|rating|\n",
            "+------+-------+------+\n",
            "|     1|      1|   4.0|\n",
            "|     1|      3|   4.0|\n",
            "|     1|      6|   4.0|\n",
            "|     1|     47|   5.0|\n",
            "|     1|     50|   5.0|\n",
            "|     1|     70|   3.0|\n",
            "|     1|    101|   5.0|\n",
            "|     1|    110|   4.0|\n",
            "|     1|    151|   5.0|\n",
            "|     1|    157|   5.0|\n",
            "|     1|    163|   5.0|\n",
            "|     1|    216|   5.0|\n",
            "|     1|    223|   3.0|\n",
            "|     1|    231|   5.0|\n",
            "|     1|    235|   4.0|\n",
            "|     1|    260|   5.0|\n",
            "|     1|    296|   3.0|\n",
            "|     1|    316|   3.0|\n",
            "|     1|    333|   5.0|\n",
            "|     1|    349|   4.0|\n",
            "+------+-------+------+\n",
            "only showing top 20 rows\n",
            "\n"
          ],
          "name": "stdout"
        }
      ]
    },
    {
      "cell_type": "code",
      "metadata": {
        "id": "u_2QxS6DbDdx"
      },
      "source": [
        "# create test and train set\n",
        "\n",
        "(training,test)=movie_ratings.randomSplit([0.8,0.2])"
      ],
      "execution_count": null,
      "outputs": []
    },
    {
      "cell_type": "code",
      "metadata": {
        "colab": {
          "base_uri": "https://localhost:8080/"
        },
        "id": "ok2cO-60bFuQ",
        "outputId": "05318399-b2dd-4f31-88f7-cb11c726e505"
      },
      "source": [
        "training.count()"
      ],
      "execution_count": null,
      "outputs": [
        {
          "output_type": "execute_result",
          "data": {
            "text/plain": [
              "80721"
            ]
          },
          "metadata": {
            "tags": []
          },
          "execution_count": 54
        }
      ]
    },
    {
      "cell_type": "code",
      "metadata": {
        "colab": {
          "base_uri": "https://localhost:8080/"
        },
        "id": "Un9E-a0CbHll",
        "outputId": "33815d80-72f0-4c0f-9f12-59d1b1740ef4"
      },
      "source": [
        "test.count()"
      ],
      "execution_count": null,
      "outputs": [
        {
          "output_type": "execute_result",
          "data": {
            "text/plain": [
              "20115"
            ]
          },
          "metadata": {
            "tags": []
          },
          "execution_count": 55
        }
      ]
    },
    {
      "cell_type": "markdown",
      "metadata": {
        "id": "YiX2szfJa9uz"
      },
      "source": [
        "###**<br>3.2 Model tuning**\n",
        "With the ALS model, I will use a grid search to find the optimal hyperparameters.<br><br>"
      ]
    },
    {
      "cell_type": "code",
      "metadata": {
        "id": "2glrm7xea4hL"
      },
      "source": [
        "# import package\n",
        "\n",
        "from pyspark.ml.evaluation import RegressionEvaluator\n",
        "from pyspark.ml.recommendation import ALS\n",
        "from pyspark.ml.tuning import CrossValidator,ParamGridBuilder"
      ],
      "execution_count": null,
      "outputs": []
    },
    {
      "cell_type": "code",
      "metadata": {
        "id": "zJ3Zh68tbJPc"
      },
      "source": [
        "# create ALS model\n",
        "\n",
        "als = ALS(maxIter=5, rank=10, regParam=0.01, userCol=\"userId\", itemCol=\"movieId\", ratingCol=\"rating\",\n",
        "          coldStartStrategy=\"drop\")"
      ],
      "execution_count": null,
      "outputs": []
    },
    {
      "cell_type": "code",
      "metadata": {
        "id": "jpoC3BZwbKyx"
      },
      "source": [
        "# tune model using ParamGridBuilder\n",
        "\n",
        "paramGrid = (ParamGridBuilder()\n",
        "             .addGrid(als.maxIter, [5, 10, 20])\n",
        "             .addGrid(als.rank, [5, 10, 20])\n",
        "             .addGrid(als.regParam, [0.01, 0.05, 0.1, 0.5, 1])\n",
        "             .build())"
      ],
      "execution_count": null,
      "outputs": []
    },
    {
      "cell_type": "code",
      "metadata": {
        "id": "rKkD2pPJbOH7"
      },
      "source": [
        "# define evaluator as RMSE\n",
        "\n",
        "evaluator = RegressionEvaluator(metricName='rmse', labelCol='rating')"
      ],
      "execution_count": null,
      "outputs": []
    },
    {
      "cell_type": "code",
      "metadata": {
        "id": "8p9VoDJfbPkg"
      },
      "source": [
        "# build cross validation\n",
        "\n",
        "cv = CrossValidator(estimator=als, estimatorParamMaps=paramGrid, evaluator=evaluator, numFolds=5, parallelism=3)"
      ],
      "execution_count": null,
      "outputs": []
    },
    {
      "cell_type": "code",
      "metadata": {
        "id": "nC-YHS5lbREd"
      },
      "source": [
        "# fit ALS model to training data\n",
        "\n",
        "model = cv.fit(training)"
      ],
      "execution_count": null,
      "outputs": []
    },
    {
      "cell_type": "code",
      "metadata": {
        "id": "1z62RIeibSdM"
      },
      "source": [
        "# extract the best model derived from cross-validation\n",
        "\n",
        "best_model = model.bestModel"
      ],
      "execution_count": null,
      "outputs": []
    },
    {
      "cell_type": "markdown",
      "metadata": {
        "id": "LefyTySxjNmC"
      },
      "source": [
        "### <br> **3.3 Model evaluation and testing**\n",
        "I'll evaluate the model performance with RMSE, get the best parameters, and make predictions with the best model on testing data.\n",
        "<br><br>"
      ]
    },
    {
      "cell_type": "code",
      "metadata": {
        "id": "VYo1kdwjiqKd"
      },
      "source": [
        "# generate predictions and evaluate using RMSE\n",
        "\n",
        "predictions = best_model.transform(test)\n",
        "rmse = evaluator.evaluate(predictions)"
      ],
      "execution_count": null,
      "outputs": []
    },
    {
      "cell_type": "code",
      "metadata": {
        "colab": {
          "base_uri": "https://localhost:8080/"
        },
        "id": "hxrajK_3jPwj",
        "outputId": "f1b3359f-be4f-4bc5-df5f-da2a4e436c65"
      },
      "source": [
        "# print evaluation metrics and model parameters\n",
        "\n",
        "print('RMSE = ' + str(rmse))\n",
        "print('**Best Model**')\n",
        "print(' Rank: ' + str(best_model.rank))\n",
        "print(' MaxIter: ' + str(best_model._java_obj.parent().getMaxIter()))\n",
        "print(' RegParam: ' + str(best_model._java_obj.parent().getRegParam()))"
      ],
      "execution_count": null,
      "outputs": [
        {
          "output_type": "stream",
          "text": [
            "RMSE = 0.8812582280569093\n",
            "**Best Model**\n",
            " Rank: 5\n",
            " MaxIter: 20\n",
            " RegParam: 0.1\n"
          ],
          "name": "stdout"
        }
      ]
    },
    {
      "cell_type": "code",
      "metadata": {
        "colab": {
          "base_uri": "https://localhost:8080/"
        },
        "id": "FiASYQOsk79b",
        "outputId": "8401928d-0d9b-462a-c423-a109c999fb7d"
      },
      "source": [
        "predictions.show()"
      ],
      "execution_count": null,
      "outputs": [
        {
          "output_type": "stream",
          "text": [
            "+------+-------+------+-----------+\n",
            "|userId|movieId|rating| prediction|\n",
            "+------+-------+------+-----------+\n",
            "|   372|    471|   3.0|  3.1670485|\n",
            "|   182|    471|   4.5|  3.7028074|\n",
            "|   462|    471|   2.5|  2.1688745|\n",
            "|   520|    471|   5.0|  3.3757174|\n",
            "|   273|    471|   5.0|  3.9188957|\n",
            "|   216|    471|   3.0|  2.7152092|\n",
            "|   608|    471|   1.5|  2.6704726|\n",
            "|    44|    833|   2.0|  3.0110042|\n",
            "|   599|    833|   1.5| 0.94272697|\n",
            "|   609|    833|   3.0|   1.400319|\n",
            "|   307|    833|   1.0|-0.23238185|\n",
            "|   606|   1088|   3.0|   3.283702|\n",
            "|    41|   1088|   1.5|   2.592773|\n",
            "|   286|   1088|   3.5|  3.2935514|\n",
            "|   387|   1088|   1.5|  2.7007537|\n",
            "|   583|   1088|   3.5|  3.3109956|\n",
            "|   188|   1088|   4.0|   3.775997|\n",
            "|    42|   1088|   3.0|   4.050458|\n",
            "|   325|   1238|   4.0|   4.158299|\n",
            "|   268|   1238|   5.0|  3.4353104|\n",
            "+------+-------+------+-----------+\n",
            "only showing top 20 rows\n",
            "\n"
          ],
          "name": "stdout"
        }
      ]
    },
    {
      "cell_type": "markdown",
      "metadata": {
        "id": "NK7gRfoHPTx1"
      },
      "source": [
        "### <br> **3.4 Alternative model testing using the full Movielens dataset**\n",
        "I will use the full movielens dataset to further test the best model's performance.\n",
        "<br><br>"
      ]
    },
    {
      "cell_type": "code",
      "metadata": {
        "id": "EEqYSKdYIlYH"
      },
      "source": [
        "# get the dataset\n",
        "\n",
        "id = \"1XCoscHsVvNYZeW3bb3E1HFq5oWuZrcAq\"\n",
        "file = drive.CreateFile({'id':id}) \n",
        "file.GetContentFile('fullratings.csv') "
      ],
      "execution_count": null,
      "outputs": []
    },
    {
      "cell_type": "code",
      "metadata": {
        "colab": {
          "base_uri": "https://localhost:8080/"
        },
        "id": "fdJ4uBfQQbKM",
        "outputId": "28f87f4c-688c-48d7-f113-5e82ad826412"
      },
      "source": [
        "full_ratings = spark.read.load(\"fullratings.csv\", format='csv', header = True)\n",
        "full_ratings = full_ratings.drop('timestamp') \\\n",
        "                           .withColumn('userId', col('userId').cast(IntegerType())) \\\n",
        "                           .withColumn('movieId', col('movieId').cast(IntegerType())) \\\n",
        "                           .withColumn('rating', col('rating').cast(FloatType()))\n",
        "full_ratings.show()"
      ],
      "execution_count": null,
      "outputs": [
        {
          "output_type": "stream",
          "text": [
            "+------+-------+------+\n",
            "|userId|movieId|rating|\n",
            "+------+-------+------+\n",
            "|     1|    307|   3.5|\n",
            "|     1|    481|   3.5|\n",
            "|     1|   1091|   1.5|\n",
            "|     1|   1257|   4.5|\n",
            "|     1|   1449|   4.5|\n",
            "|     1|   1590|   2.5|\n",
            "|     1|   1591|   1.5|\n",
            "|     1|   2134|   4.5|\n",
            "|     1|   2478|   4.0|\n",
            "|     1|   2840|   3.0|\n",
            "|     1|   2986|   2.5|\n",
            "|     1|   3020|   4.0|\n",
            "|     1|   3424|   4.5|\n",
            "|     1|   3698|   3.5|\n",
            "|     1|   3826|   2.0|\n",
            "|     1|   3893|   3.5|\n",
            "|     2|    170|   3.5|\n",
            "|     2|    849|   3.5|\n",
            "|     2|   1186|   3.5|\n",
            "|     2|   1235|   3.0|\n",
            "+------+-------+------+\n",
            "only showing top 20 rows\n",
            "\n"
          ],
          "name": "stdout"
        }
      ]
    },
    {
      "cell_type": "code",
      "metadata": {
        "id": "_dZ-c28SRixq",
        "colab": {
          "base_uri": "https://localhost:8080/"
        },
        "outputId": "1cc29297-ebe3-4a65-eeb1-98a6a2e8ec18"
      },
      "source": [
        "full_predictions = best_model.transform(full_ratings)\n",
        "rmse = evaluator.evaluate(full_predictions)\n",
        "print('RMSE = ' + str(rmse))"
      ],
      "execution_count": null,
      "outputs": [
        {
          "output_type": "stream",
          "text": [
            "RMSE = 1.2021165775507732\n"
          ],
          "name": "stdout"
        }
      ]
    },
    {
      "cell_type": "code",
      "metadata": {
        "id": "rN6XrieOSKLk",
        "colab": {
          "base_uri": "https://localhost:8080/"
        },
        "outputId": "fe8003c1-8272-45a5-ac05-a251c0b58aee"
      },
      "source": [
        "full_predictions.show()"
      ],
      "execution_count": null,
      "outputs": [
        {
          "output_type": "stream",
          "text": [
            "+------+-------+------+----------+\n",
            "|userId|movieId|rating|prediction|\n",
            "+------+-------+------+----------+\n",
            "|   165|    148|   3.0| 2.5872278|\n",
            "|   251|    471|   3.0|  4.091542|\n",
            "|   593|    471|   3.0| 3.0790086|\n",
            "|    81|    471|   3.5| 2.5761344|\n",
            "|   332|    471|   2.0| 3.3240685|\n",
            "|   336|    471|   4.0| 3.5903792|\n",
            "|   417|    471|   3.0|  4.311777|\n",
            "|   360|    471|   5.0| 3.3026936|\n",
            "|   185|    471|   4.0| 3.6251512|\n",
            "|   429|    471|   4.0| 3.9540513|\n",
            "|   295|    471|   4.0| 3.9597058|\n",
            "|   432|    471|   3.0| 3.1900973|\n",
            "|   235|    471|   4.0| 3.7279177|\n",
            "|   609|    471|   3.0| 3.0041342|\n",
            "|   423|    471|   3.0|   3.23422|\n",
            "|   485|    471|   4.0|  3.735363|\n",
            "|     4|    471|   4.5| 3.5783687|\n",
            "|   549|    471|   3.5| 2.1627443|\n",
            "|   277|    471|   3.5| 2.8012571|\n",
            "|   428|    471|   5.0| 2.3644247|\n",
            "+------+-------+------+----------+\n",
            "only showing top 20 rows\n",
            "\n"
          ],
          "name": "stdout"
        }
      ]
    },
    {
      "cell_type": "markdown",
      "metadata": {
        "id": "DiI3ac9HnzFW"
      },
      "source": [
        "## <br>**4. Apply the model and see the performance**\n",
        "First, I'll apply the best model to all ratings and get the predictions and RMSE. Next, I'll create some further applications with the model: making movie recommendations to a specified user, finding similar movies to a specified movie, and finding similar users to a specified user.\n",
        "<br><BR>"
      ]
    },
    {
      "cell_type": "markdown",
      "metadata": {
        "id": "8aoHBDwsYauH"
      },
      "source": [
        "### **4.1 Make predictions on all ratings**\n",
        "<br>"
      ]
    },
    {
      "cell_type": "code",
      "metadata": {
        "id": "cQypLh1qnRns",
        "colab": {
          "base_uri": "https://localhost:8080/"
        },
        "outputId": "749f30b7-afb2-455d-a19b-c84485aa2b31"
      },
      "source": [
        "alldata = best_model.transform(movie_ratings)\n",
        "rmse = evaluator.evaluate(alldata)\n",
        "print('RMSE = ' + str(rmse))"
      ],
      "execution_count": null,
      "outputs": [
        {
          "output_type": "stream",
          "text": [
            "RMSE = 0.690610342781591\n"
          ],
          "name": "stdout"
        }
      ]
    },
    {
      "cell_type": "code",
      "metadata": {
        "id": "p7oJpNMKn3Se"
      },
      "source": [
        "alldata.registerTempTable('alldata')"
      ],
      "execution_count": null,
      "outputs": []
    },
    {
      "cell_type": "code",
      "metadata": {
        "id": "fwa5Hjd7oNNZ",
        "colab": {
          "base_uri": "https://localhost:8080/"
        },
        "outputId": "06c23544-9a0c-482f-90e5-fd0d3d452b5d"
      },
      "source": [
        "spark.sql('select * from alldata').show()"
      ],
      "execution_count": null,
      "outputs": [
        {
          "output_type": "stream",
          "text": [
            "+------+-------+------+----------+\n",
            "|userId|movieId|rating|prediction|\n",
            "+------+-------+------+----------+\n",
            "|   191|    148|   5.0| 4.9127827|\n",
            "|   133|    471|   4.0| 3.0119748|\n",
            "|   597|    471|   2.0|  4.310061|\n",
            "|   385|    471|   4.0|  3.301446|\n",
            "|   436|    471|   3.0| 3.3731856|\n",
            "|   602|    471|   4.0| 3.3053906|\n",
            "|    91|    471|   1.0| 2.2817566|\n",
            "|   409|    471|   3.0| 3.7006376|\n",
            "|   372|    471|   3.0| 3.1670485|\n",
            "|   599|    471|   2.5|  2.652343|\n",
            "|   603|    471|   4.0| 2.8617496|\n",
            "|   182|    471|   4.5| 3.7028074|\n",
            "|   218|    471|   4.0| 3.8206005|\n",
            "|   474|    471|   3.0| 3.0358596|\n",
            "|   500|    471|   1.0| 1.8096226|\n",
            "|    57|    471|   3.0| 3.4404275|\n",
            "|   462|    471|   2.5| 2.1688745|\n",
            "|   387|    471|   3.0| 3.1492805|\n",
            "|   610|    471|   4.0| 3.4532576|\n",
            "|   217|    471|   2.0| 2.5047612|\n",
            "+------+-------+------+----------+\n",
            "only showing top 20 rows\n",
            "\n"
          ],
          "name": "stdout"
        }
      ]
    },
    {
      "cell_type": "markdown",
      "metadata": {
        "id": "agN-SuGOonWK"
      },
      "source": [
        "### <br> **4.2 Make movie recommendations to a specified user**\n",
        "I'll use the recommendForAllUsers method of ALSModel to make personalized movie recommendations to users.\n",
        "<br><br>"
      ]
    },
    {
      "cell_type": "code",
      "metadata": {
        "id": "HEvMABuBocUs"
      },
      "source": [
        "from pyspark.sql.functions import explode\n",
        "\n",
        "def recommend_movies_to_user(userId, num):\n",
        "  '''\n",
        "  userId: int\n",
        "  num: int, the number of recommended movies\n",
        "  '''\n",
        "  recommended_movies_all = best_model.recommendForAllUsers(num) \\\n",
        "                                     .withColumn('recommendations', explode(col('recommendations'))) \\\n",
        "                                     .withColumn('movieId', col('recommendations')['movieId']) \\\n",
        "                                     .withColumn('prediction', col('recommendations')['rating']) \\\n",
        "                                     .select('userId', 'movieId', 'prediction')\n",
        "  return recommended_movies_all.filter(col('userId')==userId).join(movies_df, 'movieId').select('movieId', 'title', 'genres', 'prediction')"
      ],
      "execution_count": null,
      "outputs": []
    },
    {
      "cell_type": "code",
      "metadata": {
        "id": "AdPmhXOboqpo",
        "colab": {
          "base_uri": "https://localhost:8080/"
        },
        "outputId": "7ea1b51c-827b-469a-8375-459b04bcabfc"
      },
      "source": [
        "# recommend 10 movies to user with id 575\n",
        "\n",
        "result = recommend_movies_to_user(575, 10)\n",
        "result.show(truncate=False)"
      ],
      "execution_count": null,
      "outputs": [
        {
          "output_type": "stream",
          "text": [
            "+-------+-------------------------------+--------------------+----------+\n",
            "|movieId|title                          |genres              |prediction|\n",
            "+-------+-------------------------------+--------------------+----------+\n",
            "|89904  |The Artist (2011)              |Comedy|Drama|Romance|5.963774  |\n",
            "|59018  |Visitor, The (2007)            |Drama|Romance       |5.760055  |\n",
            "|60943  |Frozen River (2008)            |Drama               |5.760055  |\n",
            "|51931  |Reign Over Me (2007)           |Drama               |5.612236  |\n",
            "|100714 |Before Midnight (2013)         |Drama|Romance       |5.5894246 |\n",
            "|7841   |Children of Dune (2003)        |Fantasy|Sci-Fi      |5.564225  |\n",
            "|82     |Antonia's Line (Antonia) (1995)|Comedy|Drama        |5.5431123 |\n",
            "|3022   |General, The (1926)            |Comedy|War          |5.4890723 |\n",
            "|3379   |On the Beach (1959)            |Drama               |5.4671335 |\n",
            "|86320  |Melancholia (2011)             |Drama|Sci-Fi        |5.412531  |\n",
            "+-------+-------------------------------+--------------------+----------+\n",
            "\n"
          ],
          "name": "stdout"
        }
      ]
    },
    {
      "cell_type": "code",
      "metadata": {
        "id": "d6eh7yUPoxFQ",
        "colab": {
          "base_uri": "https://localhost:8080/"
        },
        "outputId": "940af6a8-bd6a-4085-9a0f-0aa2ff4afe40"
      },
      "source": [
        "# recommend 10 movies to user with id 125\n",
        "\n",
        "result = recommend_movies_to_user(125, 10)\n",
        "result.show(truncate=False)"
      ],
      "execution_count": 101,
      "outputs": [
        {
          "output_type": "stream",
          "text": [
            "+-------+-----------------------------------------------------------------------+---------------------+----------+\n",
            "|movieId|title                                                                  |genres               |prediction|\n",
            "+-------+-----------------------------------------------------------------------+---------------------+----------+\n",
            "|40     |Cry, the Beloved Country (1995)                                        |Drama                |5.42651   |\n",
            "|3379   |On the Beach (1959)                                                    |Drama                |5.3658113 |\n",
            "|4495   |Crossing Delancey (1988)                                               |Comedy|Romance       |5.1653194 |\n",
            "|8235   |Safety Last! (1923)                                                    |Action|Comedy|Romance|5.1653194 |\n",
            "|43376  |Sophie Scholl: The Final Days (Sophie Scholl - Die letzten Tage) (2005)|Drama|War            |5.1653194 |\n",
            "|6201   |Lady Jane (1986)                                                       |Drama|Romance        |5.1653194 |\n",
            "|2295   |Impostors, The (1998)                                                  |Comedy               |5.07963   |\n",
            "|3200   |Last Detail, The (1973)                                                |Comedy|Drama         |5.0668006 |\n",
            "|136469 |Larry David: Curb Your Enthusiasm (1999)                               |Comedy               |5.015106  |\n",
            "|78836  |Enter the Void (2009)                                                  |Drama                |4.986607  |\n",
            "+-------+-----------------------------------------------------------------------+---------------------+----------+\n",
            "\n"
          ],
          "name": "stdout"
        }
      ]
    },
    {
      "cell_type": "markdown",
      "metadata": {
        "id": "Q7dfF3JlrFZ_"
      },
      "source": [
        "### <br> **4.3 Find similar movies to a specified movie**\n",
        "Since the ALS model stores item features and user features, I could use these features to compute cosine similarity, so as to find similar movies/users to any specified movie/user.\n",
        "<br><br>"
      ]
    },
    {
      "cell_type": "code",
      "metadata": {
        "id": "GqEn6iI6o-dG"
      },
      "source": [
        "movies_df = movies_df.withColumn('movieId', col('movieId').cast(IntegerType()))\n",
        "df_movies = movies_df.toPandas()\n",
        "item_factors = best_model.itemFactors.toPandas()"
      ],
      "execution_count": null,
      "outputs": []
    },
    {
      "cell_type": "code",
      "metadata": {
        "id": "DLmbVUyCrHaa"
      },
      "source": [
        "def similar_movies(movieId, num):\n",
        "  '''\n",
        "  movieId: int\n",
        "  num: int, the number of similar movies\n",
        "  '''\n",
        "  try:\n",
        "    features = item_factors[item_factors.id == movieId].iloc[0, 1]\n",
        "  except:\n",
        "    return 'There is no movie with id ' + str(movieId)\n",
        "  \n",
        "  similarities = np.empty((item_factors.shape[0], 2))\n",
        "  for i in range(item_factors.shape[0]):\n",
        "    id = item_factors.iloc[i, 0]\n",
        "    numerator = np.dot(features, item_factors.iloc[i, 1])\n",
        "    denominator = np.linalg.norm(features) * np.linalg.norm(item_factors.iloc[i, 1])\n",
        "    cos_similarity = numerator / denominator\n",
        "    similarities[i] = [id, cos_similarity]\n",
        "  \n",
        "  df_similarities = pd.DataFrame(similarities, columns = ['movieId', 'similarity']) \\\n",
        "                      .astype({\"movieId\": int, \"similarity\": float}) \\\n",
        "                      .sort_values(by = 'similarity', ascending = False)\n",
        "  return df_similarities.iloc[1:num+1, :].merge(df_movies, on = 'movieId')"
      ],
      "execution_count": null,
      "outputs": []
    },
    {
      "cell_type": "code",
      "metadata": {
        "id": "yMS6iYVsrJFh",
        "colab": {
          "base_uri": "https://localhost:8080/",
          "height": 359
        },
        "outputId": "d2b7d6c1-e139-4238-fe8f-ce10ed035133"
      },
      "source": [
        "# 10 movies most similar to the movie with id 165\n",
        "\n",
        "similar_movies(165, 10)"
      ],
      "execution_count": null,
      "outputs": [
        {
          "output_type": "execute_result",
          "data": {
            "text/html": [
              "<div>\n",
              "<style scoped>\n",
              "    .dataframe tbody tr th:only-of-type {\n",
              "        vertical-align: middle;\n",
              "    }\n",
              "\n",
              "    .dataframe tbody tr th {\n",
              "        vertical-align: top;\n",
              "    }\n",
              "\n",
              "    .dataframe thead th {\n",
              "        text-align: right;\n",
              "    }\n",
              "</style>\n",
              "<table border=\"1\" class=\"dataframe\">\n",
              "  <thead>\n",
              "    <tr style=\"text-align: right;\">\n",
              "      <th></th>\n",
              "      <th>movieId</th>\n",
              "      <th>similarity</th>\n",
              "      <th>title</th>\n",
              "      <th>genres</th>\n",
              "    </tr>\n",
              "  </thead>\n",
              "  <tbody>\n",
              "    <tr>\n",
              "      <th>0</th>\n",
              "      <td>82041</td>\n",
              "      <td>0.998443</td>\n",
              "      <td>Loved Ones, The (2009)</td>\n",
              "      <td>Horror</td>\n",
              "    </tr>\n",
              "    <tr>\n",
              "      <th>1</th>\n",
              "      <td>161</td>\n",
              "      <td>0.996863</td>\n",
              "      <td>Crimson Tide (1995)</td>\n",
              "      <td>Drama|Thriller|War</td>\n",
              "    </tr>\n",
              "    <tr>\n",
              "      <th>2</th>\n",
              "      <td>5409</td>\n",
              "      <td>0.996758</td>\n",
              "      <td>Rapid Fire (1992)</td>\n",
              "      <td>Action</td>\n",
              "    </tr>\n",
              "    <tr>\n",
              "      <th>3</th>\n",
              "      <td>88672</td>\n",
              "      <td>0.996424</td>\n",
              "      <td>Our Idiot Brother (2011)</td>\n",
              "      <td>Comedy</td>\n",
              "    </tr>\n",
              "    <tr>\n",
              "      <th>4</th>\n",
              "      <td>2504</td>\n",
              "      <td>0.996395</td>\n",
              "      <td>200 Cigarettes (1999)</td>\n",
              "      <td>Comedy|Drama</td>\n",
              "    </tr>\n",
              "    <tr>\n",
              "      <th>5</th>\n",
              "      <td>69805</td>\n",
              "      <td>0.996370</td>\n",
              "      <td>Librarian, The: The Curse of the Judas Chalice...</td>\n",
              "      <td>Action|Adventure|Fantasy</td>\n",
              "    </tr>\n",
              "    <tr>\n",
              "      <th>6</th>\n",
              "      <td>93287</td>\n",
              "      <td>0.996300</td>\n",
              "      <td>Big Year, The (2011)</td>\n",
              "      <td>Comedy</td>\n",
              "    </tr>\n",
              "    <tr>\n",
              "      <th>7</th>\n",
              "      <td>1580</td>\n",
              "      <td>0.996072</td>\n",
              "      <td>Men in Black (a.k.a. MIB) (1997)</td>\n",
              "      <td>Action|Comedy|Sci-Fi</td>\n",
              "    </tr>\n",
              "    <tr>\n",
              "      <th>8</th>\n",
              "      <td>5523</td>\n",
              "      <td>0.995853</td>\n",
              "      <td>Adventures of Pluto Nash, The (2002)</td>\n",
              "      <td>Action|Adventure|Comedy|Sci-Fi</td>\n",
              "    </tr>\n",
              "    <tr>\n",
              "      <th>9</th>\n",
              "      <td>380</td>\n",
              "      <td>0.995567</td>\n",
              "      <td>True Lies (1994)</td>\n",
              "      <td>Action|Adventure|Comedy|Romance|Thriller</td>\n",
              "    </tr>\n",
              "  </tbody>\n",
              "</table>\n",
              "</div>"
            ],
            "text/plain": [
              "   movieId  ...                                    genres\n",
              "0    82041  ...                                    Horror\n",
              "1      161  ...                        Drama|Thriller|War\n",
              "2     5409  ...                                    Action\n",
              "3    88672  ...                                    Comedy\n",
              "4     2504  ...                              Comedy|Drama\n",
              "5    69805  ...                  Action|Adventure|Fantasy\n",
              "6    93287  ...                                    Comedy\n",
              "7     1580  ...                      Action|Comedy|Sci-Fi\n",
              "8     5523  ...            Action|Adventure|Comedy|Sci-Fi\n",
              "9      380  ...  Action|Adventure|Comedy|Romance|Thriller\n",
              "\n",
              "[10 rows x 4 columns]"
            ]
          },
          "metadata": {
            "tags": []
          },
          "execution_count": 94
        }
      ]
    },
    {
      "cell_type": "code",
      "metadata": {
        "colab": {
          "base_uri": "https://localhost:8080/",
          "height": 80
        },
        "id": "W1JbeHkQaBIv",
        "outputId": "87390972-9a66-4639-e5cd-5fc31cc9f168"
      },
      "source": [
        "df_movies[df_movies.movieId == 165]"
      ],
      "execution_count": null,
      "outputs": [
        {
          "output_type": "execute_result",
          "data": {
            "text/html": [
              "<div>\n",
              "<style scoped>\n",
              "    .dataframe tbody tr th:only-of-type {\n",
              "        vertical-align: middle;\n",
              "    }\n",
              "\n",
              "    .dataframe tbody tr th {\n",
              "        vertical-align: top;\n",
              "    }\n",
              "\n",
              "    .dataframe thead th {\n",
              "        text-align: right;\n",
              "    }\n",
              "</style>\n",
              "<table border=\"1\" class=\"dataframe\">\n",
              "  <thead>\n",
              "    <tr style=\"text-align: right;\">\n",
              "      <th></th>\n",
              "      <th>movieId</th>\n",
              "      <th>title</th>\n",
              "      <th>genres</th>\n",
              "    </tr>\n",
              "  </thead>\n",
              "  <tbody>\n",
              "    <tr>\n",
              "      <th>138</th>\n",
              "      <td>165</td>\n",
              "      <td>Die Hard: With a Vengeance (1995)</td>\n",
              "      <td>Action|Crime|Thriller</td>\n",
              "    </tr>\n",
              "  </tbody>\n",
              "</table>\n",
              "</div>"
            ],
            "text/plain": [
              "     movieId                              title                 genres\n",
              "138      165  Die Hard: With a Vengeance (1995)  Action|Crime|Thriller"
            ]
          },
          "metadata": {
            "tags": []
          },
          "execution_count": 95
        }
      ]
    },
    {
      "cell_type": "code",
      "metadata": {
        "id": "cjaoCWzarKu7",
        "colab": {
          "base_uri": "https://localhost:8080/",
          "height": 359
        },
        "outputId": "f67fe9ef-b0e5-4200-d8bb-a5bd6f3cf15f"
      },
      "source": [
        "# 10 movies most similar to the movie with id 471\n",
        "\n",
        "similar_movies(471, 10)"
      ],
      "execution_count": null,
      "outputs": [
        {
          "output_type": "execute_result",
          "data": {
            "text/html": [
              "<div>\n",
              "<style scoped>\n",
              "    .dataframe tbody tr th:only-of-type {\n",
              "        vertical-align: middle;\n",
              "    }\n",
              "\n",
              "    .dataframe tbody tr th {\n",
              "        vertical-align: top;\n",
              "    }\n",
              "\n",
              "    .dataframe thead th {\n",
              "        text-align: right;\n",
              "    }\n",
              "</style>\n",
              "<table border=\"1\" class=\"dataframe\">\n",
              "  <thead>\n",
              "    <tr style=\"text-align: right;\">\n",
              "      <th></th>\n",
              "      <th>movieId</th>\n",
              "      <th>similarity</th>\n",
              "      <th>title</th>\n",
              "      <th>genres</th>\n",
              "    </tr>\n",
              "  </thead>\n",
              "  <tbody>\n",
              "    <tr>\n",
              "      <th>0</th>\n",
              "      <td>2249</td>\n",
              "      <td>0.998051</td>\n",
              "      <td>My Blue Heaven (1990)</td>\n",
              "      <td>Comedy</td>\n",
              "    </tr>\n",
              "    <tr>\n",
              "      <th>1</th>\n",
              "      <td>4873</td>\n",
              "      <td>0.996984</td>\n",
              "      <td>Waking Life (2001)</td>\n",
              "      <td>Animation|Drama|Fantasy</td>\n",
              "    </tr>\n",
              "    <tr>\n",
              "      <th>2</th>\n",
              "      <td>4774</td>\n",
              "      <td>0.995333</td>\n",
              "      <td>Big Trouble (2002)</td>\n",
              "      <td>Comedy|Crime</td>\n",
              "    </tr>\n",
              "    <tr>\n",
              "      <th>3</th>\n",
              "      <td>3831</td>\n",
              "      <td>0.990300</td>\n",
              "      <td>Saving Grace (2000)</td>\n",
              "      <td>Comedy</td>\n",
              "    </tr>\n",
              "    <tr>\n",
              "      <th>4</th>\n",
              "      <td>114060</td>\n",
              "      <td>0.987871</td>\n",
              "      <td>The Drop (2014)</td>\n",
              "      <td>Crime|Drama|Thriller</td>\n",
              "    </tr>\n",
              "    <tr>\n",
              "      <th>5</th>\n",
              "      <td>14</td>\n",
              "      <td>0.987774</td>\n",
              "      <td>Nixon (1995)</td>\n",
              "      <td>Drama</td>\n",
              "    </tr>\n",
              "    <tr>\n",
              "      <th>6</th>\n",
              "      <td>79299</td>\n",
              "      <td>0.986759</td>\n",
              "      <td>No. 1 Ladies' Detective Agency, The (2008)</td>\n",
              "      <td>Comedy|Crime|Mystery</td>\n",
              "    </tr>\n",
              "    <tr>\n",
              "      <th>7</th>\n",
              "      <td>79536</td>\n",
              "      <td>0.986759</td>\n",
              "      <td>Hellsinki (Rööperi) (2009)</td>\n",
              "      <td>Crime</td>\n",
              "    </tr>\n",
              "    <tr>\n",
              "      <th>8</th>\n",
              "      <td>26900</td>\n",
              "      <td>0.986759</td>\n",
              "      <td>Last Wedding, The (Kivenpyörittäjän kylä) (1995)</td>\n",
              "      <td>Comedy|Drama</td>\n",
              "    </tr>\n",
              "    <tr>\n",
              "      <th>9</th>\n",
              "      <td>54796</td>\n",
              "      <td>0.986759</td>\n",
              "      <td>2 Days in Paris (2007)</td>\n",
              "      <td>Comedy|Drama|Romance</td>\n",
              "    </tr>\n",
              "  </tbody>\n",
              "</table>\n",
              "</div>"
            ],
            "text/plain": [
              "   movieId  ...                   genres\n",
              "0     2249  ...                   Comedy\n",
              "1     4873  ...  Animation|Drama|Fantasy\n",
              "2     4774  ...             Comedy|Crime\n",
              "3     3831  ...                   Comedy\n",
              "4   114060  ...     Crime|Drama|Thriller\n",
              "5       14  ...                    Drama\n",
              "6    79299  ...     Comedy|Crime|Mystery\n",
              "7    79536  ...                    Crime\n",
              "8    26900  ...             Comedy|Drama\n",
              "9    54796  ...     Comedy|Drama|Romance\n",
              "\n",
              "[10 rows x 4 columns]"
            ]
          },
          "metadata": {
            "tags": []
          },
          "execution_count": 80
        }
      ]
    },
    {
      "cell_type": "code",
      "metadata": {
        "id": "le-_yzBaUMzZ",
        "colab": {
          "base_uri": "https://localhost:8080/",
          "height": 80
        },
        "outputId": "fed096fa-2a59-4fe6-e7cf-89e8a088fa66"
      },
      "source": [
        "df_movies[df_movies.movieId == 471]"
      ],
      "execution_count": null,
      "outputs": [
        {
          "output_type": "execute_result",
          "data": {
            "text/html": [
              "<div>\n",
              "<style scoped>\n",
              "    .dataframe tbody tr th:only-of-type {\n",
              "        vertical-align: middle;\n",
              "    }\n",
              "\n",
              "    .dataframe tbody tr th {\n",
              "        vertical-align: top;\n",
              "    }\n",
              "\n",
              "    .dataframe thead th {\n",
              "        text-align: right;\n",
              "    }\n",
              "</style>\n",
              "<table border=\"1\" class=\"dataframe\">\n",
              "  <thead>\n",
              "    <tr style=\"text-align: right;\">\n",
              "      <th></th>\n",
              "      <th>movieId</th>\n",
              "      <th>title</th>\n",
              "      <th>genres</th>\n",
              "    </tr>\n",
              "  </thead>\n",
              "  <tbody>\n",
              "    <tr>\n",
              "      <th>409</th>\n",
              "      <td>471</td>\n",
              "      <td>Hudsucker Proxy, The (1994)</td>\n",
              "      <td>Comedy</td>\n",
              "    </tr>\n",
              "  </tbody>\n",
              "</table>\n",
              "</div>"
            ],
            "text/plain": [
              "     movieId                        title  genres\n",
              "409      471  Hudsucker Proxy, The (1994)  Comedy"
            ]
          },
          "metadata": {
            "tags": []
          },
          "execution_count": 96
        }
      ]
    },
    {
      "cell_type": "markdown",
      "metadata": {
        "id": "_pCYby1rbIaB"
      },
      "source": [
        "### <br> **4.4 Find similar users to a specified user**\n",
        "<br>"
      ]
    },
    {
      "cell_type": "code",
      "metadata": {
        "id": "9u7arxbLbVpX"
      },
      "source": [
        "user_factors = best_model.userFactors.toPandas()\n",
        "\n",
        "def similar_users(userId, num):\n",
        "  try:\n",
        "    features = user_factors[user_factors.id == userId].iloc[0, 1]\n",
        "  except:\n",
        "    return 'There is no user with id ' + str(userId)\n",
        "  \n",
        "  similarities = np.empty((user_factors.shape[0], 2))\n",
        "  for i in range(user_factors.shape[0]):\n",
        "    id = user_factors.iloc[i, 0]\n",
        "    numerator = np.dot(features, user_factors.iloc[i, 1])\n",
        "    denominator = np.linalg.norm(features) * np.linalg.norm(user_factors.iloc[i, 1])\n",
        "    cos_similarity = numerator / denominator\n",
        "    similarities[i] = [id, cos_similarity]\n",
        "  \n",
        "  df_similarities = pd.DataFrame(similarities, columns = ['userId', 'similarity']) \\\n",
        "                      .astype({\"userId\": int, \"similarity\": float}) \\\n",
        "                      .sort_values(by = 'similarity', ascending = False)\n",
        "  return df_similarities.iloc[1:num+1, :]"
      ],
      "execution_count": null,
      "outputs": []
    },
    {
      "cell_type": "code",
      "metadata": {
        "id": "KBwn5z3odWzP",
        "colab": {
          "base_uri": "https://localhost:8080/",
          "height": 359
        },
        "outputId": "a451e5d2-5f3d-457a-dd66-dc5ae01b16a0"
      },
      "source": [
        "# 10 users most similar to the user with id 134\n",
        "\n",
        "similar_users(134, 10)"
      ],
      "execution_count": null,
      "outputs": [
        {
          "output_type": "execute_result",
          "data": {
            "text/html": [
              "<div>\n",
              "<style scoped>\n",
              "    .dataframe tbody tr th:only-of-type {\n",
              "        vertical-align: middle;\n",
              "    }\n",
              "\n",
              "    .dataframe tbody tr th {\n",
              "        vertical-align: top;\n",
              "    }\n",
              "\n",
              "    .dataframe thead th {\n",
              "        text-align: right;\n",
              "    }\n",
              "</style>\n",
              "<table border=\"1\" class=\"dataframe\">\n",
              "  <thead>\n",
              "    <tr style=\"text-align: right;\">\n",
              "      <th></th>\n",
              "      <th>userId</th>\n",
              "      <th>similarity</th>\n",
              "    </tr>\n",
              "  </thead>\n",
              "  <tbody>\n",
              "    <tr>\n",
              "      <th>165</th>\n",
              "      <td>432</td>\n",
              "      <td>0.990894</td>\n",
              "    </tr>\n",
              "    <tr>\n",
              "      <th>306</th>\n",
              "      <td>15</td>\n",
              "      <td>0.987046</td>\n",
              "    </tr>\n",
              "    <tr>\n",
              "      <th>347</th>\n",
              "      <td>425</td>\n",
              "      <td>0.984866</td>\n",
              "    </tr>\n",
              "    <tr>\n",
              "      <th>203</th>\n",
              "      <td>203</td>\n",
              "      <td>0.983265</td>\n",
              "    </tr>\n",
              "    <tr>\n",
              "      <th>390</th>\n",
              "      <td>246</td>\n",
              "      <td>0.979939</td>\n",
              "    </tr>\n",
              "    <tr>\n",
              "      <th>280</th>\n",
              "      <td>364</td>\n",
              "      <td>0.977481</td>\n",
              "    </tr>\n",
              "    <tr>\n",
              "      <th>412</th>\n",
              "      <td>466</td>\n",
              "      <td>0.976907</td>\n",
              "    </tr>\n",
              "    <tr>\n",
              "      <th>559</th>\n",
              "      <td>109</td>\n",
              "      <td>0.975873</td>\n",
              "    </tr>\n",
              "    <tr>\n",
              "      <th>238</th>\n",
              "      <td>553</td>\n",
              "      <td>0.975134</td>\n",
              "    </tr>\n",
              "    <tr>\n",
              "      <th>175</th>\n",
              "      <td>532</td>\n",
              "      <td>0.974722</td>\n",
              "    </tr>\n",
              "  </tbody>\n",
              "</table>\n",
              "</div>"
            ],
            "text/plain": [
              "     userId  similarity\n",
              "165     432    0.990894\n",
              "306      15    0.987046\n",
              "347     425    0.984866\n",
              "203     203    0.983265\n",
              "390     246    0.979939\n",
              "280     364    0.977481\n",
              "412     466    0.976907\n",
              "559     109    0.975873\n",
              "238     553    0.975134\n",
              "175     532    0.974722"
            ]
          },
          "metadata": {
            "tags": []
          },
          "execution_count": 83
        }
      ]
    },
    {
      "cell_type": "code",
      "metadata": {
        "id": "T3y_1Hy6djRO",
        "colab": {
          "base_uri": "https://localhost:8080/",
          "height": 359
        },
        "outputId": "414b1e68-0727-4158-821b-667de344b520"
      },
      "source": [
        "# 10 users most similar to the user with id 256\n",
        "\n",
        "similar_users(256, 10)"
      ],
      "execution_count": null,
      "outputs": [
        {
          "output_type": "execute_result",
          "data": {
            "text/html": [
              "<div>\n",
              "<style scoped>\n",
              "    .dataframe tbody tr th:only-of-type {\n",
              "        vertical-align: middle;\n",
              "    }\n",
              "\n",
              "    .dataframe tbody tr th {\n",
              "        vertical-align: top;\n",
              "    }\n",
              "\n",
              "    .dataframe thead th {\n",
              "        text-align: right;\n",
              "    }\n",
              "</style>\n",
              "<table border=\"1\" class=\"dataframe\">\n",
              "  <thead>\n",
              "    <tr style=\"text-align: right;\">\n",
              "      <th></th>\n",
              "      <th>userId</th>\n",
              "      <th>similarity</th>\n",
              "    </tr>\n",
              "  </thead>\n",
              "  <tbody>\n",
              "    <tr>\n",
              "      <th>116</th>\n",
              "      <td>551</td>\n",
              "      <td>0.996034</td>\n",
              "    </tr>\n",
              "    <tr>\n",
              "      <th>512</th>\n",
              "      <td>248</td>\n",
              "      <td>0.992397</td>\n",
              "    </tr>\n",
              "    <tr>\n",
              "      <th>110</th>\n",
              "      <td>491</td>\n",
              "      <td>0.992137</td>\n",
              "    </tr>\n",
              "    <tr>\n",
              "      <th>460</th>\n",
              "      <td>337</td>\n",
              "      <td>0.990977</td>\n",
              "    </tr>\n",
              "    <tr>\n",
              "      <th>412</th>\n",
              "      <td>466</td>\n",
              "      <td>0.983088</td>\n",
              "    </tr>\n",
              "    <tr>\n",
              "      <th>261</th>\n",
              "      <td>174</td>\n",
              "      <td>0.982489</td>\n",
              "    </tr>\n",
              "    <tr>\n",
              "      <th>421</th>\n",
              "      <td>556</td>\n",
              "      <td>0.980604</td>\n",
              "    </tr>\n",
              "    <tr>\n",
              "      <th>63</th>\n",
              "      <td>21</td>\n",
              "      <td>0.978164</td>\n",
              "    </tr>\n",
              "    <tr>\n",
              "      <th>192</th>\n",
              "      <td>93</td>\n",
              "      <td>0.977470</td>\n",
              "    </tr>\n",
              "    <tr>\n",
              "      <th>224</th>\n",
              "      <td>413</td>\n",
              "      <td>0.977196</td>\n",
              "    </tr>\n",
              "  </tbody>\n",
              "</table>\n",
              "</div>"
            ],
            "text/plain": [
              "     userId  similarity\n",
              "116     551    0.996034\n",
              "512     248    0.992397\n",
              "110     491    0.992137\n",
              "460     337    0.990977\n",
              "412     466    0.983088\n",
              "261     174    0.982489\n",
              "421     556    0.980604\n",
              "63       21    0.978164\n",
              "192      93    0.977470\n",
              "224     413    0.977196"
            ]
          },
          "metadata": {
            "tags": []
          },
          "execution_count": 0
        }
      ]
    },
    {
      "cell_type": "markdown",
      "metadata": {
        "id": "BABcH7CCezL1"
      },
      "source": [
        "##<br>**Final Report**"
      ]
    },
    {
      "cell_type": "markdown",
      "metadata": {
        "id": "DmVb_LzGe9wn"
      },
      "source": [
        "**Motivation**:<br><br>\n",
        "\n",
        "In the era of big data, recommendation system has become the core technology of internet businesses, which provides tremendous values through recommending personalized items to users. Of various approaches to build recommendation systems, the ALS model based on collaborative filtering approach is widely used and has many advantages such as low space cost and missing value imputation. Meanwhile, since the ALS model training based on matrix factorization tends to be time consuming, the Apache Spark ML cound be used to take advantage of its distributed computing. This motivated me to build a recommendation system with ALS model on Spark and to test its performance with real data.<br><br>"
      ]
    },
    {
      "cell_type": "markdown",
      "metadata": {
        "id": "8tw45R-orM9C"
      },
      "source": [
        "**Steps:**<br><br>\n",
        "\n",
        "\n",
        "1.   The first step is to set up the Spark Session in Google Colab, import packages, and load the data into Spark Dataframes. After that, I did some data exploration to understand the missing data and sparseness in the ratings data, which could be important in the model training process. This exploration shows that there is no missing data in the ratings, and less than half of movies are rated by only one user.<br><br>\n",
        "\n",
        "2.   I used Spark SQL to perform the OLAP process and further explore the data. There are 610 users and 9724 movies in the ratings data, 9742 movies in the movies data, and therefore 18 movies not in the ratings data. In the movies data, there are 20 genres in total after splitting the genre combinations for each movie, and number of movies belonging to each genre ranges from 34 to 4361.<br><Br>\n",
        "\n",
        "3.    The third step contains data transformation, model selection, training and tuning with cross validation. Data types in the ratings data were converted from string type to integer and float types, and training, testing datasets were created. Then I built up and trained an ALS model, set up a ParamGrid with hyperparameter sets and tuned the model with best parameters using 5-fold cross validation. Additionally, 3 model parallelism was used in cross validation to speed up the tuning process.<br><br>\n",
        "\n",
        "4.    The trained model was evaluated on testing dataset using root mean square error (RMSE) metric. Additionally, I used the Movielens full dataset to test the model performance on a larger dataset. <br><br>\n",
        "\n",
        "5.    Finally, I made some applications with the trained model, such as making personalized movie recommendations to specific users, and finding similar movies/users to specified movie/user.<br><br>\n"
      ]
    },
    {
      "cell_type": "markdown",
      "metadata": {
        "id": "eciuUomo_btZ"
      },
      "source": [
        "**Conclusion:**<br><br>\n",
        "\n",
        "In this notebook I have trained an ALS model for movie recommendation using Movielens data and tuned the model with best hyperparameters, deriving the RMSE score of 0.88 in the testing data and 1.20 in the full Movielens data. I have applied the model to recommend personalized movies to users, and to find similar movies/users for specified movie/user. Since the RMSE is still large, especially when further testing the model with full Movielens data, future work could focus on reducing the RMSE and increase the model robustness."
      ]
    }
  ]
}